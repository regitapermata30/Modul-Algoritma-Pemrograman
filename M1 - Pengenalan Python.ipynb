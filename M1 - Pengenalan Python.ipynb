{
  "nbformat": 4,
  "nbformat_minor": 0,
  "metadata": {
    "colab": {
      "provenance": []
    },
    "kernelspec": {
      "name": "python3",
      "display_name": "Python 3"
    },
    "language_info": {
      "name": "python"
    }
  },
  "cells": [
    {
      "cell_type": "code",
      "execution_count": null,
      "metadata": {
        "id": "DBVww1nh7i3N"
      },
      "outputs": [],
      "source": []
    },
    {
      "cell_type": "markdown",
      "source": [
        "#Pengenalan Python"
      ],
      "metadata": {
        "id": "9PGRfmuj8o40"
      }
    },
    {
      "cell_type": "markdown",
      "source": [
        "## Syntax Dasar"
      ],
      "metadata": {
        "id": "O1UuTKzP8yV-"
      }
    },
    {
      "cell_type": "code",
      "source": [
        "print('Hello World')"
      ],
      "metadata": {
        "colab": {
          "base_uri": "https://localhost:8080/"
        },
        "id": "tUyqq4nM8vz3",
        "outputId": "63b201a4-5356-4f3f-e698-cda7e7619ba2"
      },
      "execution_count": null,
      "outputs": [
        {
          "output_type": "stream",
          "name": "stdout",
          "text": [
            "Hello World\n"
          ]
        }
      ]
    },
    {
      "cell_type": "code",
      "source": [
        "print(\"Rifdatun Ni'mah\")"
      ],
      "metadata": {
        "colab": {
          "base_uri": "https://localhost:8080/"
        },
        "id": "je-swsv_9BXp",
        "outputId": "8cfbd676-adb6-4c41-ca40-f7d61791b977"
      },
      "execution_count": null,
      "outputs": [
        {
          "output_type": "stream",
          "name": "stdout",
          "text": [
            "Rifdatun Ni'mah\n"
          ]
        }
      ]
    },
    {
      "cell_type": "code",
      "source": [
        "print(hello world)"
      ],
      "metadata": {
        "colab": {
          "base_uri": "https://localhost:8080/",
          "height": 133
        },
        "id": "-CAWBO-D9Fk6",
        "outputId": "964e57ee-4ed9-46f8-c60e-00ada3b64273"
      },
      "execution_count": null,
      "outputs": [
        {
          "output_type": "error",
          "ename": "SyntaxError",
          "evalue": "ignored",
          "traceback": [
            "\u001b[0;36m  File \u001b[0;32m\"<ipython-input-3-6135c6da936c>\"\u001b[0;36m, line \u001b[0;32m1\u001b[0m\n\u001b[0;31m    print(hello world)\u001b[0m\n\u001b[0m                    ^\u001b[0m\n\u001b[0;31mSyntaxError\u001b[0m\u001b[0;31m:\u001b[0m invalid syntax\n"
          ]
        }
      ]
    },
    {
      "cell_type": "code",
      "source": [
        "Print('Hello World')"
      ],
      "metadata": {
        "colab": {
          "base_uri": "https://localhost:8080/",
          "height": 169
        },
        "id": "lh_b6S199TZv",
        "outputId": "63f4d278-49e4-4475-d383-7762e3c11c16"
      },
      "execution_count": null,
      "outputs": [
        {
          "output_type": "error",
          "ename": "NameError",
          "evalue": "ignored",
          "traceback": [
            "\u001b[0;31m---------------------------------------------------------------------------\u001b[0m",
            "\u001b[0;31mNameError\u001b[0m                                 Traceback (most recent call last)",
            "\u001b[0;32m<ipython-input-5-76108a059f25>\u001b[0m in \u001b[0;36m<module>\u001b[0;34m\u001b[0m\n\u001b[0;32m----> 1\u001b[0;31m \u001b[0mPrint\u001b[0m\u001b[0;34m(\u001b[0m\u001b[0;34m'Hello World'\u001b[0m\u001b[0;34m)\u001b[0m\u001b[0;34m\u001b[0m\u001b[0;34m\u001b[0m\u001b[0m\n\u001b[0m",
            "\u001b[0;31mNameError\u001b[0m: name 'Print' is not defined"
          ]
        }
      ]
    },
    {
      "cell_type": "code",
      "source": [
        "#Ini sebuah catatan kecil untuk komentar dalam program saya"
      ],
      "metadata": {
        "id": "HeiT2fYt91dy"
      },
      "execution_count": null,
      "outputs": []
    },
    {
      "cell_type": "code",
      "source": [
        "#print('nama saya Gita')"
      ],
      "metadata": {
        "id": "gr_Ui-5s-QTS"
      },
      "execution_count": null,
      "outputs": []
    },
    {
      "cell_type": "code",
      "source": [
        "#Mencetak Nilai\n",
        "print(16) #integer"
      ],
      "metadata": {
        "colab": {
          "base_uri": "https://localhost:8080/"
        },
        "id": "Bk-MvI_g-WV9",
        "outputId": "bd4b3658-203e-4637-c620-bbab981f1bed"
      },
      "execution_count": null,
      "outputs": [
        {
          "output_type": "stream",
          "name": "stdout",
          "text": [
            "16\n"
          ]
        }
      ]
    },
    {
      "cell_type": "code",
      "source": [
        "print(120.67586) #bilangan float"
      ],
      "metadata": {
        "colab": {
          "base_uri": "https://localhost:8080/"
        },
        "id": "utfJAbwm-jmu",
        "outputId": "cba647cd-486b-4116-f628-13abcebfe68a"
      },
      "execution_count": null,
      "outputs": [
        {
          "output_type": "stream",
          "name": "stdout",
          "text": [
            "120.67586\n"
          ]
        }
      ]
    },
    {
      "cell_type": "code",
      "source": [],
      "metadata": {
        "id": "EljCEhga-uCZ"
      },
      "execution_count": null,
      "outputs": []
    },
    {
      "cell_type": "markdown",
      "source": [
        "## Latihan\n",
        "\n",
        "1. Jalankan program tersebut di komputer anda, menggunakan  jupyter-notebook, google colab, ataupun jupyterlab\n",
        "2. Buatlah program menggunakan ```print()``` seperti output dibawah **catatan:** ubahlah dengan menampilkan informasi atau biodata anda masing - masing, dengan menampilkan serta berikan komentar disetiap baris pada script anda.\n",
        "```\n",
        "Praktikum algoritma dan pemrograman\n",
        "Nama : Abila\n",
        "NIM : 2022098000\n",
        "Angkatan : 2022\n",
        "Jurusan : Sains Data\n",
        "Fakultas Teknologi Informasi dan Bisnis\n",
        "Institut Teknologi Telkom Surabaya\n",
        "```\n",
        "\n",
        "3. Jalankan script dibawah ini, kemudian berikan penjelasan pada script maupun output nya, jika terjadi error, silahkan anda perbaiki\n",
        "```\n",
        "print(\"Ini Budi\") #mencetak penjelasan Budi\n",
        "print('Budi bersekolah di SDN Kedung Baruk) #sekolah Budi\n",
        "prnt(\"Cita - cita ingin menjadi seorang Pilot\") #cita-cita budi\n",
        "```"
      ],
      "metadata": {
        "id": "TczhaprT_A6E"
      }
    },
    {
      "cell_type": "code",
      "source": [
        "print(\"Ini Budi\")"
      ],
      "metadata": {
        "colab": {
          "base_uri": "https://localhost:8080/"
        },
        "id": "juyK9-xBwxRJ",
        "outputId": "c8633e0b-6f83-4a17-e818-028e8f6190f5"
      },
      "execution_count": null,
      "outputs": [
        {
          "output_type": "stream",
          "name": "stdout",
          "text": [
            "Ini Budi\n"
          ]
        }
      ]
    },
    {
      "cell_type": "code",
      "source": [
        "print('Budi bersekolah di SDN Kedung Baruk')"
      ],
      "metadata": {
        "colab": {
          "base_uri": "https://localhost:8080/"
        },
        "id": "15CH5XtUxXtz",
        "outputId": "bebb5b5a-1c36-4bde-c3ea-b47bbf088cd1"
      },
      "execution_count": null,
      "outputs": [
        {
          "output_type": "stream",
          "name": "stdout",
          "text": [
            "Budi bersekolah di SDN Kedung Baruk\n"
          ]
        }
      ]
    },
    {
      "cell_type": "code",
      "source": [
        "print(\"Cita - cita ingin menjadi seorang Pilot\")"
      ],
      "metadata": {
        "colab": {
          "base_uri": "https://localhost:8080/"
        },
        "id": "lInz8_fdxcBJ",
        "outputId": "baca2e2c-5e3d-4be9-f180-1e94b8f735b0"
      },
      "execution_count": null,
      "outputs": [
        {
          "output_type": "stream",
          "name": "stdout",
          "text": [
            "Cita - cita ingin menjadi seorang Pilot\n"
          ]
        }
      ]
    },
    {
      "cell_type": "code",
      "source": [],
      "metadata": {
        "id": "sIs75aySxhb_"
      },
      "execution_count": null,
      "outputs": []
    }
  ]
}