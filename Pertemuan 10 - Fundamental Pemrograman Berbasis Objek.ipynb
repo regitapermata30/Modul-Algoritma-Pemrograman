{
 "cells": [
  {
   "cell_type": "markdown",
   "metadata": {
    "id": "YrQsVAoeVzkW"
   },
   "source": [
    "<p align=\"justify\"> Dalam Python, Pemrograman Berorientasi Objek (OOP) adalah paradigma pemrograman yang menggunakan objek dan kelas dalam pemrograman. Ini bertujuan untuk mengimplementasikan entitas dunia nyata seperti pewarisan, polimorfisme, enkapsulasi, dll. dalam pemrograman. Konsep utama OOP adalah untuk mengikat data dan fungsi-fungsi yang bekerja di dalamnya menjadi satu kesatuan sehingga tidak ada bagian lain dari kode yang dapat mengakses data ini.\n",
    "</p>"
   ]
  },
  {
   "cell_type": "markdown",
   "metadata": {},
   "source": [
    "<blockquote> Paradigma lebih merujuk kepada sebuah pendekatan atau konsep dalam menstrukturisasi suatu kode program. Atau, kita bisa juga menyebut paradigma sebagai “cara berfikir” untuk menyusun pola penulisan program. </blockquote>"
   ]
  },
  {
   "cell_type": "markdown",
   "metadata": {},
   "source": [
    "**3 Paradigma Pemrograman yang Cukup Populer** :\n",
    " - Paradigma prosedural – melakukan pengelompokan satu tugas tertentu yang bisa digunakan berkali-kali sebagai pendekatan dalam pemecahan suatu masalah.\n",
    " - Paradigma fungsional – hampir sama dengan prosedural, hanya saja paradigma ini lebih berorientasi terhadap “input-output” dari pada mengubah data secara langsung seperti pada paradigma prosedural.\n",
    " - dan Paradigma PBO (Pemrograman Berorientasi Objek) – yaitu paradigma yang menjadikan semua komponen program sebagai objek. Yang mana setiap objek memiliki identitas dan tugasnya masing-masing"
   ]
  },
  {
   "cell_type": "markdown",
   "metadata": {},
   "source": [
    "<blockquote> Paradigma fungsional dan Paradigma prosedural hampir sama, namun kelihatan bedanya adalah pada pengembalian nilainya. Fungsional adalah fungsi yang mengembalikan nilai, Sedangkan prosedural adalah fungsi yang tidak mengembalikan nilai.</blockquote>\n",
    "- namun pada pelajaran-pelajaran bahasa pemrograman yang lebih modern, kebanyakan orang tidak lagi membedakan"
   ]
  },
  {
   "cell_type": "markdown",
   "metadata": {},
   "source": [
    "# Pendekatan Prosedural"
   ]
  },
  {
   "cell_type": "code",
   "execution_count": 18,
   "metadata": {},
   "outputs": [
    {
     "name": "stdout",
     "output_type": "stream",
     "text": [
      "Masukkan alas: 10\n",
      "Masukkan tinggi: 10\n",
      "Luas = 50.0\n",
      "Masukkan alas: 5\n",
      "Masukkan tinggi: 10\n",
      "Luas = 25.0\n"
     ]
    }
   ],
   "source": [
    "# def hitung_luas ():\n",
    "\"\"\"Ini adalah contoh dari Prosedural.\"\"\"\n",
    "alas = float(input('Masukkan alas: '))\n",
    "tinggi = float(input('Masukkan tinggi: '))\n",
    "print('Luas =', 0.5 * alas * tinggi)\n",
    "\n",
    "\"\"\"Ini adalah contoh dari Prosedural.\"\"\"\n",
    "alas = float(input('Masukkan alas: '))\n",
    "tinggi = float(input('Masukkan tinggi: '))\n",
    "print('Luas =', 0.5 * alas * tinggi)\n",
    "\n",
    "\"\"\"Ini adalah contoh dari Prosedural.\"\"\"\n",
    "alas = float(input('Masukkan alas: '))\n",
    "tinggi = float(input('Masukkan tinggi: '))\n",
    "print('Luas =', 0.5 * alas * tinggi)\n",
    "\n",
    "\"\"\"Ini adalah contoh dari Prosedural.\"\"\"\n",
    "alas = float(input('Masukkan alas: '))\n",
    "tinggi = float(input('Masukkan tinggi: '))\n",
    "print('Luas =', 0.5 * alas * tinggi)\n",
    "\n",
    "# kita bisa panggil berkali-kali\n",
    "hitung_luas()\n",
    "# panggil lagi\n",
    "hitung_luas()"
   ]
  },
  {
   "cell_type": "markdown",
   "metadata": {},
   "source": [
    "# Pendekatan Fungsional"
   ]
  },
  {
   "cell_type": "code",
   "execution_count": 5,
   "metadata": {},
   "outputs": [
    {
     "name": "stdout",
     "output_type": "stream",
     "text": [
      "Masukkan alas: 10\n",
      "Masukkan tinggi: 5\n",
      "25.0\n"
     ]
    }
   ],
   "source": [
    "def input_alas_dan_tinggi ():\n",
    "    alas = float(input('Masukkan alas: '))\n",
    "    tinggi = float((input('Masukkan tinggi: ')))\n",
    "    return alas, tinggi\n",
    "\n",
    "def hitung_luas (alas, tinggi):\n",
    "    return 0.5 * alas * tinggi\n",
    "\n",
    "\"\"\"kalau fungsional, kita sendiri yang mengelola\n",
    "hasil kembaliannya\"\"\"\n",
    "\n",
    "# # satu fungsi bisa dipanggil secara independen\n",
    "# print(hitung_luas(5, 10))\n",
    "\n",
    "# contoh dengan inputan alas dan tinggi\n",
    "alas, tinggi = input_alas_dan_tinggi() # mendapatkan nilai alas dan tingginya\n",
    "print(hitung_luas(alas, tinggi)) # menghitung luas nya"
   ]
  },
  {
   "cell_type": "markdown",
   "metadata": {},
   "source": [
    "# Konsep Dasar Pemrograman Berorientasi Objek (PBO)"
   ]
  },
  {
   "cell_type": "markdown",
   "metadata": {},
   "source": [
    "konsep paradigma PBO yang dari cara berpikir saja sudah berbeda dari Fungsional dan Prosedural"
   ]
  },
  {
   "cell_type": "markdown",
   "metadata": {},
   "source": [
    "Pada konsep PBO, kita akan membuat semua komponen program seolah-olah adalah sebuah objek. Sebuah objek selalu memiliki identitas dan juga perilaku atau kemampuan untuk melakukan tugas tertentu."
   ]
  },
  {
   "cell_type": "markdown",
   "metadata": {},
   "source": [
    "Kita ambil contoh saja program yang ada di atas: cara menghitung segitiga. Maka cara berpikir kita akan seperti ini:\n",
    "\n",
    "- Segitiga adalah sebuah objek.\n",
    "- Objek segitiga memiliki 2 identitas berupa alas dan tinggi.\n",
    "- Objek segitiga memiliki “kemampuan” untuk menghitung luasnya sendiri."
   ]
  },
  {
   "cell_type": "markdown",
   "metadata": {},
   "source": [
    "<blockquote> sesuatu tidaklah dikatakan objek kecuali jika memiliki atribut atau perilaku. Secara sederhana objek adalah sebuah gabungan dari kumpulan variabel (dinamakan atribut) dan kumpulan fungsi (dinamakan perilaku). Berdasarkan pengertian tersebut, semua hal di dalam python adalah sebuah objek</blockquote>"
   ]
  },
  {
   "cell_type": "markdown",
   "metadata": {},
   "source": [
    "Kalau kita teliti lebih jauh lagi, setiap fungsi pada python memiliki atribut $ __doc__ $ yang merupakan bukti bahwa fungsi sekalipun adalah sebuah objek dalam python."
   ]
  },
  {
   "cell_type": "code",
   "execution_count": 21,
   "metadata": {},
   "outputs": [
    {
     "name": "stdout",
     "output_type": "stream",
     "text": [
      "True\n",
      "True\n",
      "Ini adalah contoh dari Prosedural.\n",
      "<class 'function'>\n"
     ]
    }
   ],
   "source": [
    "# Mengecek apakah fungsi adalah sebuah objek\n",
    "print(isinstance(hitung_luas, object))  # Output: True\n",
    "\n",
    "# Mengecek apakah fungsi memiliki atribut __doc__\n",
    "print(hasattr(hitung_luas, '__doc__'))  # Output: True\n",
    "\n",
    "# Mencetak dokumen dari fungsi menggunakan atribut __doc__\n",
    "print(hitung_luas.__doc__)  # Output: Ini adalah contoh docstring dari fungsi.\n",
    "\n",
    "# Mencetak tipe dari fungsi yang telah dibuat\n",
    "print(type(hitung_luas))"
   ]
  },
  {
   "cell_type": "markdown",
   "metadata": {},
   "source": [
    "# Kelas Pada Python"
   ]
  },
  {
   "cell_type": "markdown",
   "metadata": {},
   "source": [
    "1. Kelas atau class pada python bisa kita katakan sebagai sebuah blueprint (cetakan) dari objek (atau instance) yang ingin kita buat.\n",
    "2. Kelas adalah cetakannya atau definisinya, sedangkan objek (atau instance) adalah objek nyatanya."
   ]
  },
  {
   "cell_type": "markdown",
   "metadata": {},
   "source": [
    "Mari kita gunakan analogi mudah untuk menjelaskan perbedaan antara kelas dan objek (instance) dalam pemrograman. Misalkan kita memiliki kelas yang mewakili \"Mobil\":"
   ]
  },
  {
   "cell_type": "code",
   "execution_count": 23,
   "metadata": {},
   "outputs": [],
   "source": [
    "class Mobil:\n",
    "    pass"
   ]
  },
  {
   "cell_type": "markdown",
   "metadata": {},
   "source": [
    "1. **Mobil** adalah **kelas** yang mendefinisikan bagaimana mobil dibuat(**blueprint**)."
   ]
  },
  {
   "cell_type": "markdown",
   "metadata": {},
   "source": [
    "# Atribut dan Perilaku"
   ]
  },
  {
   "cell_type": "markdown",
   "metadata": {},
   "source": [
    "<blockquote> Atribut pada OOP merepresentasikan variabel yang dimiliki sebuah objek.</blockquote>\n",
    "<blockquote>Sedangkan perilaku pada OOP merepresentasikan fungsi yang dimiliki sebuah objek.</blockquote>"
   ]
  },
  {
   "cell_type": "code",
   "execution_count": 55,
   "metadata": {},
   "outputs": [],
   "source": [
    "class Mobil:\n",
    "    def __init__(self, merek, tahun, warna): # constructure \n",
    "        self.merek = merek\n",
    "        self.tahun = tahun\n",
    "        self.warna = warna\n",
    "    \n",
    "    def info(self):\n",
    "        return f\"Mobil {self.merek} tahun {self.tahun}, warna {self.warna}\""
   ]
  },
  {
   "cell_type": "markdown",
   "metadata": {},
   "source": [
    "Berdasarkan Kamus Besar Bahasa Indonesia (KBBI), konstruksi berarti model atau tata letak suatu bangunan, seperti jembatan, rumah, dan lain sebagainya."
   ]
  },
  {
   "cell_type": "markdown",
   "metadata": {},
   "source": [
    "- Magic method adalah method khusus yang memiliki nama diawali serta diakhiri dengan dobel underscore $(__).$ Method-method tersebut ada banyak sekali dengan berbagai tugas yang beragam.\n",
    "\n",
    "- Di dalam python, magic method juga dinamakan dengan dunder method. Dimanakan “dunder” karena ia merupakan singkatan dari “double underscore”\n",
    "\n",
    "- Kita bisa perhatikan pada contoh di atas, bahwa kita tidak pernah memanggil fungsi $__init__$() sama sekali. Akan tetapi sistem tetap memanggilnya secara otomatis ketika ada pembuatan instance dari kelas Mobil."
   ]
  },
  {
   "cell_type": "markdown",
   "metadata": {},
   "source": [
    "1. **self.merek**, **self.tahun**, dan **self.warna** adalah **atribut** dari setiap objek mobil yang akan dibuat.\n",
    "2. **info()** adalah sebuah **metode** yang memberikan informasi tentang mobil."
   ]
  },
  {
   "cell_type": "markdown",
   "metadata": {},
   "source": [
    "# Object itu sendiri"
   ]
  },
  {
   "cell_type": "code",
   "execution_count": 59,
   "metadata": {},
   "outputs": [],
   "source": [
    "mobil1 = Mobil(\"Toyota\", 2020, \"Merah\")\n",
    "mobil2 = Mobil(\"Honda\", 2022, \"Biru\")"
   ]
  },
  {
   "cell_type": "code",
   "execution_count": 60,
   "metadata": {},
   "outputs": [
    {
     "data": {
      "text/plain": [
       "<__main__.Mobil at 0x132b86d31d0>"
      ]
     },
     "execution_count": 60,
     "metadata": {},
     "output_type": "execute_result"
    }
   ],
   "source": [
    "mobil1\n",
    "mobil2"
   ]
  },
  {
   "cell_type": "markdown",
   "metadata": {},
   "source": [
    "1. mobil1 dan mobil2 adalah objek (instance) dari kelas Mobil.\n",
    "2. Masing-masing objek memiliki atribut seperti merek, tahun, dan warna yang berbeda-beda.\n",
    "3. Objek-objek ini dibuat berdasarkan definisi yang telah diberikan oleh kelas Mobil"
   ]
  },
  {
   "cell_type": "markdown",
   "metadata": {},
   "source": [
    "# Call the method"
   ]
  },
  {
   "cell_type": "markdown",
   "metadata": {},
   "source": [
    "ketika ingin mengakses informasi tentang mobil tersebut, dapat menggunakan metode info() yang telah didefinisikan di kelas Mobil"
   ]
  },
  {
   "cell_type": "code",
   "execution_count": 63,
   "metadata": {},
   "outputs": [
    {
     "data": {
      "text/plain": [
       "'Mobil Honda tahun 2022, warna Biru'"
      ]
     },
     "execution_count": 63,
     "metadata": {},
     "output_type": "execute_result"
    }
   ],
   "source": [
    "mobil1.info()\n",
    "mobil2.info()"
   ]
  },
  {
   "cell_type": "code",
   "execution_count": 62,
   "metadata": {},
   "outputs": [
    {
     "data": {
      "text/plain": [
       "'Mobil Honda tahun 2022, warna Biru'"
      ]
     },
     "execution_count": 62,
     "metadata": {},
     "output_type": "execute_result"
    }
   ],
   "source": [
    "mobil2.info()"
   ]
  },
  {
   "cell_type": "markdown",
   "metadata": {},
   "source": [
    "# Atribut Kelas yang Merupakan Instance dari Kelas Lainnya"
   ]
  },
  {
   "cell_type": "code",
   "execution_count": 50,
   "metadata": {},
   "outputs": [],
   "source": [
    "class Kucing:\n",
    "    def __init__(self, warna, usia):\n",
    "        self.warna = warna\n",
    "        self.usia = usia\n",
    "\n",
    "class Mahasiswa:\n",
    "    def __init__(self, nama, asal, kucing):\n",
    "        self.nama = nama\n",
    "        self.asal = asal\n",
    "        self.kucing = kucing\n",
    "\n",
    "    def perkenalan(self):\n",
    "        print(f'Perkenalkan saya {self.nama} dari {self.asal}')\n",
    "        print(f'Saya memiliki kucing berwarna {self.kucing.warna} usia {self.kucing.usia}')"
   ]
  },
  {
   "cell_type": "code",
   "execution_count": 52,
   "metadata": {},
   "outputs": [
    {
     "name": "stdout",
     "output_type": "stream",
     "text": [
      "Perkenalkan saya Deni dari Sidoarjo\n",
      "Saya memiliki kucing berwarna Merah usia 3 bulan\n"
     ]
    }
   ],
   "source": [
    "deni = Mahasiswa(\n",
    "    nama='Deni',\n",
    "    asal='Sidoarjo',\n",
    "    kucing= Kucing(warna='Merah',usia='3 bulan'))\n",
    "\n",
    "deni.perkenalan()"
   ]
  },
  {
   "cell_type": "markdown",
   "metadata": {},
   "source": [
    "# Contoh lainnya dari penggunaan Class and Object"
   ]
  },
  {
   "cell_type": "markdown",
   "metadata": {},
   "source": [
    "## Contoh 1"
   ]
  },
  {
   "cell_type": "code",
   "execution_count": null,
   "metadata": {},
   "outputs": [],
   "source": [
    "class Segitiga:\n",
    "  def __init__(self, alas, tinggi):\n",
    "    self.alas = alas\n",
    "    self.tinggi = tinggi\n",
    "\n",
    "  def get_luas(self):\n",
    "    return 0.5 * self.alas * self.tinggi"
   ]
  },
  {
   "cell_type": "code",
   "execution_count": null,
   "metadata": {},
   "outputs": [],
   "source": [
    "segitiga1 = Segitiga(5, 10)\n",
    "segitiga2 = Segitiga(10, 10)\n",
    "\n",
    "print('luas segitiga1:', segitiga1.get_luas())\n",
    "print('luas segitiga2:', segitiga2.get_luas())  "
   ]
  },
  {
   "cell_type": "markdown",
   "metadata": {},
   "source": [
    "## Contoh 2"
   ]
  },
  {
   "cell_type": "code",
   "execution_count": null,
   "metadata": {},
   "outputs": [],
   "source": [
    "Speed = int(input(\"Masukkan Speed Power Anda :\"))\n",
    "Nos = int(input(\"Masukkan Jumlah Nos Yang Anda Inginkan :\"))\n",
    "\n",
    "class Mobil_Balap :\n",
    "    def __init__(self, Speed, Nos) :\n",
    "        self.Speed = Speed\n",
    "        self.Nos = Nos\n",
    "\n",
    "    def doNos(self) :\n",
    "        print(self.Speed + 30, \"KM/jam\")\n",
    "        print(self.Nos - 1)\n",
    "    def doMelaju(self) :\n",
    "        print(\"Kecepetan Awal saat Melaju\",self.Speed)"
   ]
  },
  {
   "cell_type": "code",
   "execution_count": null,
   "metadata": {},
   "outputs": [],
   "source": [
    "Mobilku = Mobil_Balap(Speed, Nos)\n",
    "Keinginan = input(\"Masukkan Keinginanmu :\")\n",
    "\n",
    "if Keinginan == \"Melaju\" :\n",
    "    Mobilku.doMelaju()\n",
    "elif Keinginan == \"Nos\" :\n",
    "    Mobilku.doNos()"
   ]
  },
  {
   "cell_type": "markdown",
   "metadata": {},
   "source": [
    "# Contoh 3"
   ]
  },
  {
   "cell_type": "code",
   "execution_count": 65,
   "metadata": {},
   "outputs": [],
   "source": [
    "class Player:\n",
    "    def __init__(self, name, health=100, energy=100):\n",
    "        self.name = name\n",
    "        self.health = health\n",
    "        self.energy = energy\n",
    "    def attack(self, target, damage = 1):\n",
    "        target.health -= damage\n",
    "        self.energy -= damage\n",
    "        print(f\"{self.name} attacking {damage} damage to {target.name}\")\n",
    "        if target.is_attacked(player_name=self.name):\n",
    "            self.health -= target.damage\n",
    "    def show_info(self):\n",
    "        print(f\"{self.name} health: {self.health}\")\n",
    "        print(f\"{self.name} energy: {self.energy}\")"
   ]
  },
  {
   "cell_type": "code",
   "execution_count": 66,
   "metadata": {},
   "outputs": [],
   "source": [
    "class Monster:\n",
    "    def __init__(self, name, health=100):\n",
    "        self.name = name\n",
    "        self.health = health #dinamis\n",
    "        self.health_init = self.health #500\n",
    "        self.damage = 10\n",
    "    def is_attacked(self, player_name):\n",
    "        print(f\"{self.name} attack {self.damage} damage to {player_name}\")\n",
    "        return self.health < self.health_init\n",
    "\n",
    "    def show_info(self):\n",
    "        print(f\"{self.name} health: {self.health}\")"
   ]
  },
  {
   "cell_type": "code",
   "execution_count": 67,
   "metadata": {},
   "outputs": [],
   "source": [
    "player1 = Player(name=\"balmond\")\n",
    "player2 = Player(name=\"layla\")"
   ]
  },
  {
   "cell_type": "code",
   "execution_count": 69,
   "metadata": {},
   "outputs": [],
   "source": [
    "dragon = Monster(name=\"dragoun\", health=500)\n",
    "scorpion = Monster(name=\"scurpy\")"
   ]
  },
  {
   "cell_type": "code",
   "execution_count": null,
   "metadata": {},
   "outputs": [],
   "source": [
    "player1.attack(target=dragon, damage=80)"
   ]
  },
  {
   "cell_type": "code",
   "execution_count": null,
   "metadata": {},
   "outputs": [],
   "source": [
    "player2.attack(target=scorpion, damage=20)"
   ]
  },
  {
   "cell_type": "code",
   "execution_count": null,
   "metadata": {},
   "outputs": [],
   "source": [
    "\n",
    "player1.show_info()\n",
    "player2.show_info()"
   ]
  },
  {
   "cell_type": "markdown",
   "metadata": {},
   "source": [
    "# Latihan Soal"
   ]
  },
  {
   "cell_type": "markdown",
   "metadata": {},
   "source": [
    "<blockquote> Studi Kasus 1: Pembuatan Kelas dan Objek </blockquote>"
   ]
  },
  {
   "cell_type": "markdown",
   "metadata": {},
   "source": [
    "- Buatlah sebuah kelas Mahasiswa yang memiliki atribut nama, usia, dan jurusan.\n",
    "- Buatlah dua objek (instances) dari kelas Mahasiswa dengan nama, usia, dan jurusan yang berbeda.\n",
    "- Tampilkan informasi dari kedua objek tersebut."
   ]
  },
  {
   "cell_type": "markdown",
   "metadata": {},
   "source": [
    "<blockquote> Studi Kasus 2: Perhitungan Sederhana </blockquote>"
   ]
  },
  {
   "cell_type": "markdown",
   "metadata": {},
   "source": [
    "- Buatlah sebuah kelas Kalkulator yang memiliki metode untuk menjumlahkan (tambah), mengurangkan (kurang), mengalikan (kali), dan membagi (bagi) dua bilangan.\n",
    "- Buatlah sebuah objek dari kelas Kalkulator.\n",
    "- Gunakan metode-metode tersebut untuk melakukan operasi matematika sederhana, contohnya menjumlahkan dua bilangan."
   ]
  },
  {
   "cell_type": "markdown",
   "metadata": {},
   "source": [
    "<blockquote>  Studi Kasus 3: Manajemen Toko Buku </blockquote>"
   ]
  },
  {
   "cell_type": "markdown",
   "metadata": {},
   "source": [
    "- Buatlah sebuah kelas Buku yang memiliki atribut judul, penulis, dan tahun_terbit.\n",
    "- Buatlah beberapa objek Buku dengan judul, penulis, dan tahun terbit yang berbeda.\n",
    "- Tampilkan informasi dari setiap objek Buku yang telah dibuat.\n",
    "- Buatlah metode di dalam kelas Buku untuk menambahkan informasi tambahan, misalnya harga atau jumlah_halaman."
   ]
  }
 ],
 "metadata": {
  "colab": {
   "authorship_tag": "ABX9TyNcjCvnvs8hA0XShx/jjNBN",
   "provenance": []
  },
  "kernelspec": {
   "display_name": "Python 3 (ipykernel)",
   "language": "python",
   "name": "python3"
  },
  "language_info": {
   "codemirror_mode": {
    "name": "ipython",
    "version": 3
   },
   "file_extension": ".py",
   "mimetype": "text/x-python",
   "name": "python",
   "nbconvert_exporter": "python",
   "pygments_lexer": "ipython3",
   "version": "3.11.4"
  },
  "toc": {
   "base_numbering": 1,
   "nav_menu": {},
   "number_sections": true,
   "sideBar": true,
   "skip_h1_title": false,
   "title_cell": "Table of Contents",
   "title_sidebar": "Contents",
   "toc_cell": false,
   "toc_position": {},
   "toc_section_display": true,
   "toc_window_display": false
  }
 },
 "nbformat": 4,
 "nbformat_minor": 1
}
