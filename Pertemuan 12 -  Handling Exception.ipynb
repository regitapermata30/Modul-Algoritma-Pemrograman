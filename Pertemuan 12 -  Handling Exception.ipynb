{
 "cells": [
  {
   "cell_type": "markdown",
   "id": "19e7f4ae",
   "metadata": {},
   "source": [
    "# Apa itu Exception Handling?\n",
    "Exception handling adalah teknik untuk mengelola atau menangani kejadian tak terduga (errors atau exceptions) yang terjadi saat program dijalankan. Ini memungkinkan kita untuk mengidentifikasi, menangani, dan memproses kesalahan tanpa menghentikan program secara tiba-tiba."
   ]
  },
  {
   "cell_type": "code",
   "execution_count": 4,
   "id": "6df8389f",
   "metadata": {},
   "outputs": [
    {
     "name": "stdout",
     "output_type": "stream",
     "text": [
      "Masukkan N: 2\n",
      "Masukkan a: 1\n",
      "Masukkan b: 10\n",
      "\n",
      "Hasil:\n",
      "2/1 = 2.0\n",
      "2/2 = 1.0\n",
      "2/3 = 0.6666666666666666\n",
      "2/4 = 0.5\n",
      "2/5 = 0.4\n",
      "2/6 = 0.3333333333333333\n",
      "2/7 = 0.2857142857142857\n",
      "2/8 = 0.25\n",
      "2/9 = 0.2222222222222222\n"
     ]
    }
   ],
   "source": [
    "N = int(input(\"Masukkan N: \"))\n",
    "a = int(input(\"Masukkan a: \"))\n",
    "b = int(input(\"Masukkan b: \"))\n",
    "\n",
    "print(\"\\nHasil:\")\n",
    "for i in range(a, b):\n",
    "    print(f\"{N}/{i} =\", N/i)"
   ]
  },
  {
   "cell_type": "markdown",
   "id": "f6edc8d5",
   "metadata": {},
   "source": [
    "# Exception Handling"
   ]
  },
  {
   "cell_type": "markdown",
   "id": "990496c0",
   "metadata": {},
   "source": [
    "<blockquote>Try Except</blockquote>\n",
    "Try Except merupakan salah satu exception handling yang bertugas untuk menangani Runtime Error atau error yang terjadi selama program itu dijalankan. Try Except terdiri dari 2 bagian yaitu Try dan Except.\n",
    "\n",
    "<blockquote>Try</blockquote>Try adalah blok yang digunakan untuk menempatkan potongan kode yang mungkin menghasilkan exception. Dalam blok try, kita menuliskan kode yang mungkin mengalami kesalahan (exception). Jika tidak ada exception yang terjadi, kode dalam blok try akan dijalankan tanpa terganggu.\n",
    "<blockquote>Except</blockquote>Except adalah blok yang digunakan untuk menangkap dan menangani exception yang terjadi di dalam blok try. Ketika exception terjadi pada kode dalam blok try, maka kontrol akan beralih ke blok except yang sesuai dengan jenis exception yang terjadi. Dalam blok except, kita dapat menuliskan kode yang akan dieksekusi sebagai respons terhadap exception tertentu."
   ]
  },
  {
   "cell_type": "markdown",
   "id": "2a7f93c9",
   "metadata": {},
   "source": [
    "# Struktur Dasar Exception Handling di Python:"
   ]
  },
  {
   "cell_type": "markdown",
   "id": "1f058178",
   "metadata": {},
   "source": [
    "```python\n",
    "try:\n",
    "    # Potensi kode yang dapat memunculkan exception\n",
    "    # ...\n",
    "    # ...\n",
    "except ExceptionType1:\n",
    "    # Tangani exception tipe pertama\n",
    "    # ...\n",
    "except ExceptionType2:\n",
    "    # Tangani exception tipe kedua\n",
    "    # ...\n",
    "else:\n",
    "    # Blok ini dijalankan jika tidak ada exception yang terjadi\n",
    "    # ...\n",
    "finally:\n",
    "    # Blok ini akan dijalankan selalu, baik terjadi exception atau tidak\n",
    "    # ...\n",
    "```"
   ]
  },
  {
   "cell_type": "markdown",
   "id": "f7142353",
   "metadata": {},
   "source": [
    "berikut adalah jenis-jenis error runtime yang umum di Python beserta deskripsinya dalam format Markdown:\n",
    "\n",
    "| Jenis Error Runtime | Deskripsi |\n",
    "|:---------------------|:-----------|\n",
    "| Zero Division Error   | Nilai pembagi adalah 0 |\n",
    "| Value Error          | Operasi memungkinkan untuk dilakukan dengan tipe data tersebut namun tidak dengan nilai tersebut |\n",
    "| Type Error           | Operasi tidak memungkinkan dengan tipe data tersebut |\n",
    "| IO Error             | Tidak dapat membuka file eksternal |\n",
    "| Name Error           | Nama dari elemen yang dipanggil tidak ada |\n",
    "| Index Error          | Pengaksesan terhadap suatu indeks list atau array tidak dapat dilakukan |\n",
    "\n",
    "Tabel di atas memuat beberapa jenis error runtime yang sering dihadapi saat mengembangkan program dengan Python berserta deskripsi masing-masing kesalahannya."
   ]
  },
  {
   "cell_type": "markdown",
   "id": "c44c2f76",
   "metadata": {},
   "source": [
    "# Contoh penggunaannya"
   ]
  },
  {
   "cell_type": "markdown",
   "id": "047e61ad",
   "metadata": {},
   "source": [
    "## Try Except"
   ]
  },
  {
   "cell_type": "code",
   "execution_count": 7,
   "id": "a9b8557a",
   "metadata": {},
   "outputs": [
    {
     "name": "stdout",
     "output_type": "stream",
     "text": [
      "Masukkan N: 10\n",
      "Masukkan a: -5\n",
      "Masukkan b: 2\n",
      "\n",
      "Hasil:\n",
      "10/-5 = -2.0\n",
      "10/-4 = -2.5\n",
      "10/-3 = -3.3333333333333335\n",
      "10/-2 = -5.0\n",
      "10/-1 = -10.0\n",
      "Undefined (pembagian oleh 0 tidak terdefinisi coy!)\n",
      "10/1 = 10.0\n"
     ]
    }
   ],
   "source": [
    "N = int(input(\"Masukkan N: \"))\n",
    "a = int(input(\"Masukkan a: \"))\n",
    "b = int(input(\"Masukkan b: \"))\n",
    "\n",
    "print(\"\\nHasil:\")\n",
    "for i in range(a, b):\n",
    "    try: # <-- Mencoba kode program terlebih dahulu\n",
    "        print(f\"{N}/{i} =\", N/i)\n",
    "    except ZeroDivisionError: # <-- Eksekusi exception jika terjadi ZeroDivisionError\n",
    "        print(\"Undefined (pembagian oleh 0 tidak terdefinisi coy!)\")"
   ]
  },
  {
   "cell_type": "markdown",
   "id": "3be74362",
   "metadata": {},
   "source": [
    "Dapat dilihat pada saat, tidak terjadi error pada program sehingga dapat berjalan dengan baik hingga akhir. Hal ini karena interpreter akan mencoba perintah di dalam statement try terlebih dahulu (yaitu perintah yang berpotensi menghasilkan error). Apabila perintah tersebut benar-benar menghasilkan error, maka perintah di dalam statement try akan 'dikecualikan', lalu interpreter akan menjalankan perintah yang ada pada statement except."
   ]
  },
  {
   "cell_type": "markdown",
   "id": "b82ed857",
   "metadata": {},
   "source": [
    "## Try Multi Exception"
   ]
  },
  {
   "cell_type": "code",
   "execution_count": 15,
   "id": "45ab6499",
   "metadata": {},
   "outputs": [
    {
     "name": "stdout",
     "output_type": "stream",
     "text": [
      "Masukkan angka A : 10\n",
      "Masukkan angka B : 5\n",
      "nilai C adalah 2.0\n",
      "Masukkan angka A : 1\n",
      "Masukkan angka B : ;\n",
      "Inputnya tolong diperhatikan ya kak <3\n",
      "nilai C adalah 2.0\n"
     ]
    },
    {
     "ename": "KeyboardInterrupt",
     "evalue": "Interrupted by user",
     "output_type": "error",
     "traceback": [
      "\u001b[1;31m---------------------------------------------------------------------------\u001b[0m",
      "\u001b[1;31mKeyboardInterrupt\u001b[0m                         Traceback (most recent call last)",
      "Cell \u001b[1;32mIn[15], line 3\u001b[0m\n\u001b[0;32m      1\u001b[0m \u001b[38;5;28;01mwhile\u001b[39;00m (\u001b[38;5;28;01mTrue\u001b[39;00m):\n\u001b[0;32m      2\u001b[0m     \u001b[38;5;28;01mtry\u001b[39;00m:\n\u001b[1;32m----> 3\u001b[0m         c \u001b[38;5;241m=\u001b[39m \u001b[38;5;28mint\u001b[39m(\u001b[38;5;28minput\u001b[39m(\u001b[38;5;124m\"\u001b[39m\u001b[38;5;124mMasukkan angka A : \u001b[39m\u001b[38;5;124m\"\u001b[39m)) \u001b[38;5;241m/\u001b[39m \\\n\u001b[0;32m      4\u001b[0m             \u001b[38;5;28mint\u001b[39m(\u001b[38;5;28minput\u001b[39m(\u001b[38;5;124m\"\u001b[39m\u001b[38;5;124mMasukkan angka B : \u001b[39m\u001b[38;5;124m\"\u001b[39m))\n\u001b[0;32m      5\u001b[0m     \u001b[38;5;28;01mexcept\u001b[39;00m \u001b[38;5;167;01mZeroDivisionError\u001b[39;00m:\n\u001b[0;32m      6\u001b[0m         \u001b[38;5;28mprint\u001b[39m(\u001b[38;5;124m\"\u001b[39m\u001b[38;5;124mPembaginya tolong diperhatikan ya kak <3\u001b[39m\u001b[38;5;124m\"\u001b[39m)\n",
      "File \u001b[1;32m~\\anaconda3\\Lib\\site-packages\\ipykernel\\kernelbase.py:1175\u001b[0m, in \u001b[0;36mKernel.raw_input\u001b[1;34m(self, prompt)\u001b[0m\n\u001b[0;32m   1171\u001b[0m \u001b[38;5;28;01mif\u001b[39;00m \u001b[38;5;129;01mnot\u001b[39;00m \u001b[38;5;28mself\u001b[39m\u001b[38;5;241m.\u001b[39m_allow_stdin:\n\u001b[0;32m   1172\u001b[0m     \u001b[38;5;28;01mraise\u001b[39;00m StdinNotImplementedError(\n\u001b[0;32m   1173\u001b[0m         \u001b[38;5;124m\"\u001b[39m\u001b[38;5;124mraw_input was called, but this frontend does not support input requests.\u001b[39m\u001b[38;5;124m\"\u001b[39m\n\u001b[0;32m   1174\u001b[0m     )\n\u001b[1;32m-> 1175\u001b[0m \u001b[38;5;28;01mreturn\u001b[39;00m \u001b[38;5;28mself\u001b[39m\u001b[38;5;241m.\u001b[39m_input_request(\n\u001b[0;32m   1176\u001b[0m     \u001b[38;5;28mstr\u001b[39m(prompt),\n\u001b[0;32m   1177\u001b[0m     \u001b[38;5;28mself\u001b[39m\u001b[38;5;241m.\u001b[39m_parent_ident[\u001b[38;5;124m\"\u001b[39m\u001b[38;5;124mshell\u001b[39m\u001b[38;5;124m\"\u001b[39m],\n\u001b[0;32m   1178\u001b[0m     \u001b[38;5;28mself\u001b[39m\u001b[38;5;241m.\u001b[39mget_parent(\u001b[38;5;124m\"\u001b[39m\u001b[38;5;124mshell\u001b[39m\u001b[38;5;124m\"\u001b[39m),\n\u001b[0;32m   1179\u001b[0m     password\u001b[38;5;241m=\u001b[39m\u001b[38;5;28;01mFalse\u001b[39;00m,\n\u001b[0;32m   1180\u001b[0m )\n",
      "File \u001b[1;32m~\\anaconda3\\Lib\\site-packages\\ipykernel\\kernelbase.py:1217\u001b[0m, in \u001b[0;36mKernel._input_request\u001b[1;34m(self, prompt, ident, parent, password)\u001b[0m\n\u001b[0;32m   1214\u001b[0m             \u001b[38;5;28;01mbreak\u001b[39;00m\n\u001b[0;32m   1215\u001b[0m \u001b[38;5;28;01mexcept\u001b[39;00m \u001b[38;5;167;01mKeyboardInterrupt\u001b[39;00m:\n\u001b[0;32m   1216\u001b[0m     \u001b[38;5;66;03m# re-raise KeyboardInterrupt, to truncate traceback\u001b[39;00m\n\u001b[1;32m-> 1217\u001b[0m     \u001b[38;5;28;01mraise\u001b[39;00m \u001b[38;5;167;01mKeyboardInterrupt\u001b[39;00m(\u001b[38;5;124m\"\u001b[39m\u001b[38;5;124mInterrupted by user\u001b[39m\u001b[38;5;124m\"\u001b[39m) \u001b[38;5;28;01mfrom\u001b[39;00m \u001b[38;5;28;01mNone\u001b[39;00m\n\u001b[0;32m   1218\u001b[0m \u001b[38;5;28;01mexcept\u001b[39;00m \u001b[38;5;167;01mException\u001b[39;00m:\n\u001b[0;32m   1219\u001b[0m     \u001b[38;5;28mself\u001b[39m\u001b[38;5;241m.\u001b[39mlog\u001b[38;5;241m.\u001b[39mwarning(\u001b[38;5;124m\"\u001b[39m\u001b[38;5;124mInvalid Message:\u001b[39m\u001b[38;5;124m\"\u001b[39m, exc_info\u001b[38;5;241m=\u001b[39m\u001b[38;5;28;01mTrue\u001b[39;00m)\n",
      "\u001b[1;31mKeyboardInterrupt\u001b[0m: Interrupted by user"
     ]
    }
   ],
   "source": [
    "while (True):\n",
    "    try:\n",
    "        c = int(input(\"Masukkan angka A : \")) / \\\n",
    "            int(input(\"Masukkan angka B : \"))\n",
    "    except ZeroDivisionError:\n",
    "        print(\"Pembaginya tolong diperhatikan ya kak <3\")\n",
    "    except ValueError:\n",
    "        print(\"Inputnya tolong diperhatikan ya kak <3\")\n",
    "    print(f'nilai C adalah {c}')"
   ]
  },
  {
   "cell_type": "markdown",
   "id": "fc262f87",
   "metadata": {},
   "source": [
    "## Try Multi Except with Else"
   ]
  },
  {
   "cell_type": "markdown",
   "id": "146f181d",
   "metadata": {},
   "source": [
    "Else adalah blok opsional yang dapat ditambahkan setelah blok try-except. Blok else akan dijalankan jika tidak ada exception yang terjadi dalam blok try. Ini memungkinkan kita untuk menuliskan kode yang akan dieksekusi jika tidak ada exception yang terjadi."
   ]
  },
  {
   "cell_type": "code",
   "execution_count": 16,
   "id": "5c7c118c",
   "metadata": {
    "scrolled": true
   },
   "outputs": [
    {
     "name": "stdout",
     "output_type": "stream",
     "text": [
      "Masukkan angka A : 10\n",
      "Masukkan angka B : 5\n",
      "Nilai c adalah 2.0\n",
      "Masukkan angka A : 2\n",
      "Masukkan angka B : 0\n",
      "Pembaginya tolong diperhatikan ya kak <3\n"
     ]
    },
    {
     "ename": "KeyboardInterrupt",
     "evalue": "Interrupted by user",
     "output_type": "error",
     "traceback": [
      "\u001b[1;31m---------------------------------------------------------------------------\u001b[0m",
      "\u001b[1;31mKeyboardInterrupt\u001b[0m                         Traceback (most recent call last)",
      "Cell \u001b[1;32mIn[16], line 3\u001b[0m\n\u001b[0;32m      1\u001b[0m \u001b[38;5;28;01mwhile\u001b[39;00m (\u001b[38;5;28;01mTrue\u001b[39;00m):\n\u001b[0;32m      2\u001b[0m     \u001b[38;5;28;01mtry\u001b[39;00m:\n\u001b[1;32m----> 3\u001b[0m         c \u001b[38;5;241m=\u001b[39m \u001b[38;5;28mint\u001b[39m(\u001b[38;5;28minput\u001b[39m(\u001b[38;5;124m\"\u001b[39m\u001b[38;5;124mMasukkan angka A : \u001b[39m\u001b[38;5;124m\"\u001b[39m)) \u001b[38;5;241m/\u001b[39m \\\n\u001b[0;32m      4\u001b[0m             \u001b[38;5;28mint\u001b[39m(\u001b[38;5;28minput\u001b[39m(\u001b[38;5;124m\"\u001b[39m\u001b[38;5;124mMasukkan angka B : \u001b[39m\u001b[38;5;124m\"\u001b[39m))\n\u001b[0;32m      5\u001b[0m     \u001b[38;5;28;01mexcept\u001b[39;00m \u001b[38;5;167;01mZeroDivisionError\u001b[39;00m:\n\u001b[0;32m      6\u001b[0m         \u001b[38;5;28mprint\u001b[39m(\u001b[38;5;124m\"\u001b[39m\u001b[38;5;124mPembaginya tolong diperhatikan ya kak <3\u001b[39m\u001b[38;5;124m\"\u001b[39m)\n",
      "File \u001b[1;32m~\\anaconda3\\Lib\\site-packages\\ipykernel\\kernelbase.py:1175\u001b[0m, in \u001b[0;36mKernel.raw_input\u001b[1;34m(self, prompt)\u001b[0m\n\u001b[0;32m   1171\u001b[0m \u001b[38;5;28;01mif\u001b[39;00m \u001b[38;5;129;01mnot\u001b[39;00m \u001b[38;5;28mself\u001b[39m\u001b[38;5;241m.\u001b[39m_allow_stdin:\n\u001b[0;32m   1172\u001b[0m     \u001b[38;5;28;01mraise\u001b[39;00m StdinNotImplementedError(\n\u001b[0;32m   1173\u001b[0m         \u001b[38;5;124m\"\u001b[39m\u001b[38;5;124mraw_input was called, but this frontend does not support input requests.\u001b[39m\u001b[38;5;124m\"\u001b[39m\n\u001b[0;32m   1174\u001b[0m     )\n\u001b[1;32m-> 1175\u001b[0m \u001b[38;5;28;01mreturn\u001b[39;00m \u001b[38;5;28mself\u001b[39m\u001b[38;5;241m.\u001b[39m_input_request(\n\u001b[0;32m   1176\u001b[0m     \u001b[38;5;28mstr\u001b[39m(prompt),\n\u001b[0;32m   1177\u001b[0m     \u001b[38;5;28mself\u001b[39m\u001b[38;5;241m.\u001b[39m_parent_ident[\u001b[38;5;124m\"\u001b[39m\u001b[38;5;124mshell\u001b[39m\u001b[38;5;124m\"\u001b[39m],\n\u001b[0;32m   1178\u001b[0m     \u001b[38;5;28mself\u001b[39m\u001b[38;5;241m.\u001b[39mget_parent(\u001b[38;5;124m\"\u001b[39m\u001b[38;5;124mshell\u001b[39m\u001b[38;5;124m\"\u001b[39m),\n\u001b[0;32m   1179\u001b[0m     password\u001b[38;5;241m=\u001b[39m\u001b[38;5;28;01mFalse\u001b[39;00m,\n\u001b[0;32m   1180\u001b[0m )\n",
      "File \u001b[1;32m~\\anaconda3\\Lib\\site-packages\\ipykernel\\kernelbase.py:1217\u001b[0m, in \u001b[0;36mKernel._input_request\u001b[1;34m(self, prompt, ident, parent, password)\u001b[0m\n\u001b[0;32m   1214\u001b[0m             \u001b[38;5;28;01mbreak\u001b[39;00m\n\u001b[0;32m   1215\u001b[0m \u001b[38;5;28;01mexcept\u001b[39;00m \u001b[38;5;167;01mKeyboardInterrupt\u001b[39;00m:\n\u001b[0;32m   1216\u001b[0m     \u001b[38;5;66;03m# re-raise KeyboardInterrupt, to truncate traceback\u001b[39;00m\n\u001b[1;32m-> 1217\u001b[0m     \u001b[38;5;28;01mraise\u001b[39;00m \u001b[38;5;167;01mKeyboardInterrupt\u001b[39;00m(\u001b[38;5;124m\"\u001b[39m\u001b[38;5;124mInterrupted by user\u001b[39m\u001b[38;5;124m\"\u001b[39m) \u001b[38;5;28;01mfrom\u001b[39;00m \u001b[38;5;28;01mNone\u001b[39;00m\n\u001b[0;32m   1218\u001b[0m \u001b[38;5;28;01mexcept\u001b[39;00m \u001b[38;5;167;01mException\u001b[39;00m:\n\u001b[0;32m   1219\u001b[0m     \u001b[38;5;28mself\u001b[39m\u001b[38;5;241m.\u001b[39mlog\u001b[38;5;241m.\u001b[39mwarning(\u001b[38;5;124m\"\u001b[39m\u001b[38;5;124mInvalid Message:\u001b[39m\u001b[38;5;124m\"\u001b[39m, exc_info\u001b[38;5;241m=\u001b[39m\u001b[38;5;28;01mTrue\u001b[39;00m)\n",
      "\u001b[1;31mKeyboardInterrupt\u001b[0m: Interrupted by user"
     ]
    }
   ],
   "source": [
    "while (True):\n",
    "    try:\n",
    "        c = int(input(\"Masukkan angka A : \")) / \\\n",
    "            int(input(\"Masukkan angka B : \"))\n",
    "    except ZeroDivisionError:\n",
    "        print(\"Pembaginya tolong diperhatikan ya kak <3\")\n",
    "    except ValueError:\n",
    "        print(\"Inputnya tolong diperhatikan ya kak <3\")\n",
    "    else:\n",
    "        print(f'Nilai c adalah {c}')"
   ]
  },
  {
   "cell_type": "markdown",
   "id": "775ce799",
   "metadata": {},
   "source": [
    "## Except Exception as `<variabel>`"
   ]
  },
  {
   "cell_type": "markdown",
   "id": "967f39a6",
   "metadata": {},
   "source": [
    "Bagaimana jika error di kodingan kita banyak? apakah harus satu satu menanganinya??"
   ]
  },
  {
   "cell_type": "code",
   "execution_count": 21,
   "id": "0dc24d52",
   "metadata": {},
   "outputs": [
    {
     "name": "stdout",
     "output_type": "stream",
     "text": [
      "Masukkan umur : 121\n",
      "Umur tidak valid\n"
     ]
    },
    {
     "ename": "KeyboardInterrupt",
     "evalue": "Interrupted by user",
     "output_type": "error",
     "traceback": [
      "\u001b[1;31m---------------------------------------------------------------------------\u001b[0m",
      "\u001b[1;31mKeyboardInterrupt\u001b[0m                         Traceback (most recent call last)",
      "Cell \u001b[1;32mIn[21], line 3\u001b[0m\n\u001b[0;32m      1\u001b[0m \u001b[38;5;28;01mwhile\u001b[39;00m (\u001b[38;5;28;01mTrue\u001b[39;00m):\n\u001b[0;32m      2\u001b[0m     \u001b[38;5;28;01mtry\u001b[39;00m:\n\u001b[1;32m----> 3\u001b[0m         umur \u001b[38;5;241m=\u001b[39m \u001b[38;5;28mint\u001b[39m(\u001b[38;5;28minput\u001b[39m(\u001b[38;5;124m\"\u001b[39m\u001b[38;5;124mMasukkan umur : \u001b[39m\u001b[38;5;124m\"\u001b[39m))\n\u001b[0;32m      4\u001b[0m         \u001b[38;5;28;01mif\u001b[39;00m umur \u001b[38;5;241m<\u001b[39m \u001b[38;5;241m0\u001b[39m \u001b[38;5;129;01mor\u001b[39;00m umur \u001b[38;5;241m>\u001b[39m \u001b[38;5;241m120\u001b[39m:\n\u001b[0;32m      5\u001b[0m             \u001b[38;5;28;01mraise\u001b[39;00m \u001b[38;5;167;01mValueError\u001b[39;00m(\u001b[38;5;124m\"\u001b[39m\u001b[38;5;124mUmur tidak valid\u001b[39m\u001b[38;5;124m\"\u001b[39m)\n",
      "File \u001b[1;32m~\\anaconda3\\Lib\\site-packages\\ipykernel\\kernelbase.py:1175\u001b[0m, in \u001b[0;36mKernel.raw_input\u001b[1;34m(self, prompt)\u001b[0m\n\u001b[0;32m   1171\u001b[0m \u001b[38;5;28;01mif\u001b[39;00m \u001b[38;5;129;01mnot\u001b[39;00m \u001b[38;5;28mself\u001b[39m\u001b[38;5;241m.\u001b[39m_allow_stdin:\n\u001b[0;32m   1172\u001b[0m     \u001b[38;5;28;01mraise\u001b[39;00m StdinNotImplementedError(\n\u001b[0;32m   1173\u001b[0m         \u001b[38;5;124m\"\u001b[39m\u001b[38;5;124mraw_input was called, but this frontend does not support input requests.\u001b[39m\u001b[38;5;124m\"\u001b[39m\n\u001b[0;32m   1174\u001b[0m     )\n\u001b[1;32m-> 1175\u001b[0m \u001b[38;5;28;01mreturn\u001b[39;00m \u001b[38;5;28mself\u001b[39m\u001b[38;5;241m.\u001b[39m_input_request(\n\u001b[0;32m   1176\u001b[0m     \u001b[38;5;28mstr\u001b[39m(prompt),\n\u001b[0;32m   1177\u001b[0m     \u001b[38;5;28mself\u001b[39m\u001b[38;5;241m.\u001b[39m_parent_ident[\u001b[38;5;124m\"\u001b[39m\u001b[38;5;124mshell\u001b[39m\u001b[38;5;124m\"\u001b[39m],\n\u001b[0;32m   1178\u001b[0m     \u001b[38;5;28mself\u001b[39m\u001b[38;5;241m.\u001b[39mget_parent(\u001b[38;5;124m\"\u001b[39m\u001b[38;5;124mshell\u001b[39m\u001b[38;5;124m\"\u001b[39m),\n\u001b[0;32m   1179\u001b[0m     password\u001b[38;5;241m=\u001b[39m\u001b[38;5;28;01mFalse\u001b[39;00m,\n\u001b[0;32m   1180\u001b[0m )\n",
      "File \u001b[1;32m~\\anaconda3\\Lib\\site-packages\\ipykernel\\kernelbase.py:1217\u001b[0m, in \u001b[0;36mKernel._input_request\u001b[1;34m(self, prompt, ident, parent, password)\u001b[0m\n\u001b[0;32m   1214\u001b[0m             \u001b[38;5;28;01mbreak\u001b[39;00m\n\u001b[0;32m   1215\u001b[0m \u001b[38;5;28;01mexcept\u001b[39;00m \u001b[38;5;167;01mKeyboardInterrupt\u001b[39;00m:\n\u001b[0;32m   1216\u001b[0m     \u001b[38;5;66;03m# re-raise KeyboardInterrupt, to truncate traceback\u001b[39;00m\n\u001b[1;32m-> 1217\u001b[0m     \u001b[38;5;28;01mraise\u001b[39;00m \u001b[38;5;167;01mKeyboardInterrupt\u001b[39;00m(\u001b[38;5;124m\"\u001b[39m\u001b[38;5;124mInterrupted by user\u001b[39m\u001b[38;5;124m\"\u001b[39m) \u001b[38;5;28;01mfrom\u001b[39;00m \u001b[38;5;28;01mNone\u001b[39;00m\n\u001b[0;32m   1218\u001b[0m \u001b[38;5;28;01mexcept\u001b[39;00m \u001b[38;5;167;01mException\u001b[39;00m:\n\u001b[0;32m   1219\u001b[0m     \u001b[38;5;28mself\u001b[39m\u001b[38;5;241m.\u001b[39mlog\u001b[38;5;241m.\u001b[39mwarning(\u001b[38;5;124m\"\u001b[39m\u001b[38;5;124mInvalid Message:\u001b[39m\u001b[38;5;124m\"\u001b[39m, exc_info\u001b[38;5;241m=\u001b[39m\u001b[38;5;28;01mTrue\u001b[39;00m)\n",
      "\u001b[1;31mKeyboardInterrupt\u001b[0m: Interrupted by user"
     ]
    }
   ],
   "source": [
    "while (True):\n",
    "    try:\n",
    "        umur = int(input(\"Masukkan umur : \"))\n",
    "        if umur < 0 or umur > 120:\n",
    "            raise ValueError(\"Umur tidak valid\")\n",
    "    except Exception as e:\n",
    "        print(e)\n",
    "    else:\n",
    "        print(\"Umur tercatat\")"
   ]
  },
  {
   "cell_type": "markdown",
   "id": "f5e3e66b",
   "metadata": {},
   "source": [
    "## Raise Value Error"
   ]
  },
  {
   "cell_type": "code",
   "execution_count": 26,
   "id": "cc367812",
   "metadata": {},
   "outputs": [
    {
     "name": "stdout",
     "output_type": "stream",
     "text": [
      "Error: Pembagian dengan nol tidak diperbolehkan\n"
     ]
    }
   ],
   "source": [
    "def pembagian(angka1, angka2):\n",
    "    if angka2 == 0:\n",
    "        raise ValueError(\"Pembagian dengan nol tidak diperbolehkan\")\n",
    "    return angka1 / angka2\n",
    "\n",
    "try:\n",
    "    hasil = pembagian(1, 0)\n",
    "    print(hasil)\n",
    "except ValueError as e:\n",
    "    print(\"Error:\", e)"
   ]
  },
  {
   "cell_type": "markdown",
   "id": "f7362d74",
   "metadata": {},
   "source": [
    "# Exception dalam hierarki"
   ]
  },
  {
   "cell_type": "markdown",
   "id": "5422abb0",
   "metadata": {},
   "source": [
    "berikut adalah penjelasan untuk setiap exception dalam hierarki:\n",
    "\n",
    "| Exception            | Deskripsi                                                                                           |\n",
    "|:----------------------|:-----------------------------------------------------------------------------------------------------|\n",
    "| SystemExit           | Exception yang dihasilkan saat program dijalankan menggunakan sys.exit().                           |\n",
    "| KeyboardInterrupt    | Exception yang dihasilkan ketika pengguna menekan kombinasi tombol untuk menghentikan program (biasanya Ctrl+C). |\n",
    "| GeneratorExit        | Exception yang dihasilkan ketika generator dihentikan.                                               |\n",
    "| StopIteration        | Exception yang menandakan bahwa iterator telah habis.                                                |\n",
    "| ZeroDivisionError    | Exception yang dihasilkan saat mencoba membagi angka dengan nol.                                      |\n",
    "| OverflowError        | Exception yang dihasilkan saat operasi matematika menghasilkan nilai yang terlalu besar untuk diwakili. |\n",
    "| FloatingPointError   | Exception yang dihasilkan saat operasi floating-point gagal.                                         |\n",
    "| AssertionError      | Exception yang dihasilkan ketika sebuah pernyataan assert gagal.                                      |\n",
    "| AttributeError      | Exception yang dihasilkan saat referensi atribut atau penugasan tidak berhasil.                        |\n",
    "| BufferError          | Exception yang dihasilkan terkait dengan operasi buffer.                                              |\n",
    "| EOFError             | Exception yang dihasilkan ketika input dari fungsi input() adalah EOF (End of File).                   |\n",
    "| ImportError         | Exception yang dihasilkan ketika modul tidak dapat ditemukan atau diimpor.                             |\n",
    "| IndexError           | Exception yang dihasilkan saat indeks di luar jangkauan dari struktur data seperti list atau tuple.    |\n",
    "| KeyError             | Exception yang dihasilkan ketika kunci tidak ditemukan dalam dictionary.                               |\n",
    "| MemoryError          | Exception yang dihasilkan ketika alokasi memori gagal.                                                 |\n",
    "| NameError            | Exception yang dihasilkan ketika nama variabel tidak ditemukan.                                        |\n",
    "| UnboundLocalError    | Exception yang dihasilkan saat mencoba mengakses variabel lokal yang belum didefinisikan.               |\n",
    "| OSError              | Exception yang terkait dengan error sistem operasi.                                                    |\n",
    "| FileNotFoundError   | Exception yang dihasilkan ketika file yang diminta tidak ditemukan.                                    |\n",
    "| PermissionError      | Exception yang dihasilkan ketika tidak ada izin yang cukup untuk melaksanakan operasi tertentu.        |\n",
    "| RuntimeError         | Exception umum yang dihasilkan oleh runtime Python.                                                     |\n",
    "| NotImplementedError | Exception yang dihasilkan ketika metode yang diperlukan belum diimplementasikan.                        |\n",
    "| RecursionError       | Exception yang dihasilkan ketika terlalu banyak rekursi yang terjadi.                                   |\n",
    "| SyntaxError          | Exception yang dihasilkan saat ada kesalahan sintaks dalam kode.                                        |\n",
    "| IndentationError     | Exception yang dihasilkan saat ada kesalahan dalam indentasi.                                          |\n",
    "| TabError             | Exception yang dihasilkan saat ada kesalahan tab dan spasi dalam indentasi.                             |\n",
    "| SystemError          | Exception yang dihasilkan ketika ada kesalahan internal yang tidak terduga dalam interpreter.          |\n",
    "| TypeError            | Exception yang dihasilkan ketika operasi tidak kompatibel dengan tipe data yang diberikan.             |\n",
    "| ValueError           | Exception yang dihasilkan saat tipe data benar, tetapi nilai tidak valid untuk operasi tersebut.       |\n",
    "| UnicodeError         | Exception yang dihasilkan terkait dengan Unicode.                                                       |\n",
    "| Warning              | Kelas dasar untuk warning yang dihasilkan dari Python.                                                  |\n",
    "| DeprecationWarning   | Warning yang dihasilkan ketika menggunakan fitur yang sudah tidak disarankan.                           |\n",
    "| FutureWarning        | Warning yang dihasilkan ketika menggunakan konstruksi yang akan berubah di masa depan.                 |\n",
    "| PendingDeprecationWarning | Warning yang dihasilkan ketika fitur akan segera dihapus dalam rilis mendatang.                    |"
   ]
  },
  {
   "cell_type": "markdown",
   "id": "879ba7e4",
   "metadata": {},
   "source": [
    "# Latihan Soal!"
   ]
  },
  {
   "cell_type": "markdown",
   "id": "04793187",
   "metadata": {},
   "source": [
    "1. Buatlah sebuah program Python yang meminta pengguna untuk memasukkan dua bilangan bulat. Program tersebut akan mencetak hasil pembagian dari bilangan pertama dengan bilangan kedua. Tangani kesalahan ZeroDivisionError jika pengguna mencoba membagi dengan nol. Tampilkan pesan kesalahan yang sesuai jika terjadi exception.\n",
    "2. Tulislah fungsi hitung_luas_persegi_panjang yang menerima panjang dan lebar persegi panjang sebagai parameter. Fungsi ini akan menghitung dan mengembalikan luas persegi panjang. Tangani kesalahan jika pengguna memasukkan nilai yang bukan angka sebagai panjang atau lebar. Jika terjadi kesalahan, fungsi harus mengembalikan pesan \"Masukkan harus berupa angka\".\n",
    "3. Buatlah sebuah program Python yang meminta pengguna untuk memasukkan sebuah bilangan bulat positif. Program ini akan mencetak hasil pangkat dua dari bilangan yang dimasukkan. Tangani kesalahan ValueError jika pengguna memasukkan input yang bukan bilangan bulat positif. Lakukan validasi input untuk memastikan bilangan yang dimasukkan adalah bilangan bulat positif sebelum menghitung hasil pangkat duanya.\n",
    "4. Buat sebuah program Python yang melakukan operasi pembagian dari daftar bilangan ke dalam bilangan yang diberikan oleh pengguna. Program harus menangani beberapa jenis exception, seperti ZeroDivisionError jika terdapat pembagian dengan 0, ValueError jika pengguna memasukkan bukan bilangan, dan IndexError jika indeks yang diminta oleh pengguna melebihi panjang daftar. Tampilkan pesan yang relevan dan berikan kesempatan bagi pengguna untuk memasukkan kembali input yang benar."
   ]
  }
 ],
 "metadata": {
  "kernelspec": {
   "display_name": "Python 3 (ipykernel)",
   "language": "python",
   "name": "python3"
  },
  "language_info": {
   "codemirror_mode": {
    "name": "ipython",
    "version": 3
   },
   "file_extension": ".py",
   "mimetype": "text/x-python",
   "name": "python",
   "nbconvert_exporter": "python",
   "pygments_lexer": "ipython3",
   "version": "3.11.4"
  },
  "toc": {
   "base_numbering": 1,
   "nav_menu": {},
   "number_sections": true,
   "sideBar": true,
   "skip_h1_title": false,
   "title_cell": "Table of Contents",
   "title_sidebar": "Contents",
   "toc_cell": false,
   "toc_position": {
    "height": "calc(100% - 180px)",
    "left": "10px",
    "top": "150px",
    "width": "177.72px"
   },
   "toc_section_display": true,
   "toc_window_display": true
  }
 },
 "nbformat": 4,
 "nbformat_minor": 5
}
