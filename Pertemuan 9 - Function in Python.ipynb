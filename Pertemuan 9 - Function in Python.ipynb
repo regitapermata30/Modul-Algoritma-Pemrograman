{
 "cells": [
  {
   "cell_type": "markdown",
   "id": "a10f54c2",
   "metadata": {},
   "source": [
    "# Format pendefinisian fungsi\n",
    "```python\n",
    "def nama_fungsi(parameterFormal1, parameterFormalN):\n",
    "\t# function body / process\n",
    "\t# function body / process\n",
    "\t# function body / process\n",
    "\treturn returned_variable # opsional, sesuai kebutuhan\n",
    "```\n",
    "\n",
    "`Sintaks pembuatan function di atas secara umum terbagi menjadi 5 bagian:`\n",
    "- Kata kunci def yang menjadi pertanda bahwa blok kode program adalah sebuah fungsi\n",
    "- Nama fungsi yang kita buat\n",
    "- Parameters yang akan diterima oleh fungsi yang kita buat (tidak wajib)\n",
    "- Dan blok kode fungsi yang di sana akan kita tulis perintah-perintah yang harus dilakukan oleh sebuah fungsi\n",
    "- Pengembalian nilai (menggunakan statement return) dilakukan secara opsional (sesuaikan dengan proses apa yang ingin dilakukan). Statement return tidak selalu berada di akhir fungsi, namun perlu diingat bahwa fungsi akan langsung berhenti ketika mencapai syntax tersebut. Gunakan sesuai kebutuhan.\n",
    "\n",
    "# Format pemanggilan fungsi\n",
    "```python\n",
    "var = nama_fungsi(parameterAktual1, parameterAktualN) # jika fungsi mengembalikan nilai\n",
    "nama_fungsi(parameterAktual1, parameterAktual) #Jika fungsi tidak mengembalikan nilai\n",
    "```\n",
    "`Sintaks pemanggilan function di atas secara umum terbagi menjadi 3 bagian:`\n",
    "- Pemanggilan fungsi dilakukan dengan menuliskan nama fungsi (tanpa def), kemudian menuliskan daftar parameter aktual (nilai / variabel dari luar fungsi yang ingin di-passing ke fungsi).\n",
    "- Jika fungsi mengembalikan nilai, panggil fungsi untuk disimpan dalam variabel.\n",
    "- Jika fungsi tidak mengembalikan nilai, panggil fungsi tanpa disimpan dalam variabel."
   ]
  },
  {
   "cell_type": "code",
   "execution_count": 6,
   "id": "dd723300",
   "metadata": {},
   "outputs": [
    {
     "name": "stdout",
     "output_type": "stream",
     "text": [
      "Halo Nurul, selamat datang!\n",
      "Halo Lendis, selamat datang!\n",
      "Halo Fabri, selamat datang!\n",
      "Halo Isa, selamat datang!\n"
     ]
    }
   ],
   "source": [
    "# Tanpa function kita perlu lakukan ini\n",
    "\n",
    "print('Halo Nurul, selamat datang!')\n",
    "print('Halo Lendis, selamat datang!')\n",
    "print('Halo Fabri, selamat datang!')\n",
    "print('Halo Isa, selamat datang!')"
   ]
  },
  {
   "cell_type": "code",
   "execution_count": 7,
   "id": "38ef89b4",
   "metadata": {},
   "outputs": [
    {
     "name": "stdout",
     "output_type": "stream",
     "text": [
      "Halo Nurul, selamat datang!\n",
      "Halo Lendis, selamat datang!\n",
      "Halo Fabri, selamat datang!\n",
      "Halo isa, selamat datang!\n"
     ]
    }
   ],
   "source": [
    "# dengan function akan lebih elegant\n",
    "\n",
    "def selamat_datang (nama):\n",
    "    print(f'Halo {nama}, selamat datang!')\n",
    "\n",
    "selamat_datang('Nurul')\n",
    "selamat_datang('Lendis')\n",
    "selamat_datang('Fabri')\n",
    "selamat_datang('isa')"
   ]
  },
  {
   "cell_type": "markdown",
   "id": "69e4d3d1",
   "metadata": {},
   "source": [
    "# Fuction Without Return Value"
   ]
  },
  {
   "cell_type": "code",
   "execution_count": 42,
   "id": "b6c1d38f",
   "metadata": {},
   "outputs": [
    {
     "name": "stdout",
     "output_type": "stream",
     "text": [
      "Masukkan nilai pertama: 100\n",
      "Masukkan nilai kedua: 100\n",
      "Masukkan nilai ketiga: 100\n"
     ]
    }
   ],
   "source": [
    "def predikatMahasiswa(nilai1, nilai2, nilai3):\n",
    "    rataRata = (nilai1 + nilai2 + nilai3)/3\n",
    "    if rataRata >= 80 and rataRata <= 100:\n",
    "        print(\"Selamat, predikat kamu A!\")\n",
    "    elif rataRata >= 60 and rataRata < 80:\n",
    "        print(\"Predikat kamu B, pertahankan yaa!\")\n",
    "    elif rataRata >= 30 and rataRata < 60:\n",
    "        print(\"Predikat kamu C, perbaiki ya!\")\n",
    "    elif rataRata >= 0 and rataRata < 30:\n",
    "        print(\"Mending pulang deck\")\n",
    "        \n",
    "nilaiMhs1 = int(input(\"Masukkan nilai pertama: \"))\n",
    "nilaiMhs2 = int(input(\"Masukkan nilai kedua: \"))\n",
    "nilaiMhs3 = int(input(\"Masukkan nilai ketiga: \"))"
   ]
  },
  {
   "cell_type": "code",
   "execution_count": 43,
   "id": "54ddb800",
   "metadata": {},
   "outputs": [
    {
     "name": "stdout",
     "output_type": "stream",
     "text": [
      "Selamat, predikat kamu A!\n"
     ]
    }
   ],
   "source": [
    "Hasil = predikatMahasiswa(nilaiMhs1, nilaiMhs2, nilaiMhs3)"
   ]
  },
  {
   "cell_type": "code",
   "execution_count": 44,
   "id": "db1814e9",
   "metadata": {},
   "outputs": [],
   "source": [
    "Hasil"
   ]
  },
  {
   "cell_type": "markdown",
   "id": "9f087a30",
   "metadata": {},
   "source": [
    "# Fuction With Return Value"
   ]
  },
  {
   "cell_type": "code",
   "execution_count": 3,
   "id": "c1a08b0e",
   "metadata": {},
   "outputs": [
    {
     "name": "stdout",
     "output_type": "stream",
     "text": [
      "Luas Segitiga: 50.0\n"
     ]
    }
   ],
   "source": [
    "def luasSegitiga(alas, tinggi):\n",
    "    result = 0.5*alas*tinggi\n",
    "    return result\n",
    "\n",
    "hasilLuas = luasSegitiga(10, 10)\n",
    "print(f\"Luas Segitiga: {hasilLuas}\")"
   ]
  },
  {
   "cell_type": "code",
   "execution_count": 4,
   "id": "556b3625",
   "metadata": {},
   "outputs": [
    {
     "name": "stdout",
     "output_type": "stream",
     "text": [
      "15\n"
     ]
    }
   ],
   "source": [
    "def tambah_angka(x, y):\n",
    "    return x + y\n",
    "\n",
    "hasil = tambah_angka(5, 10)\n",
    "print(hasil)"
   ]
  },
  {
   "cell_type": "code",
   "execution_count": 46,
   "id": "0d626568",
   "metadata": {},
   "outputs": [
    {
     "name": "stdout",
     "output_type": "stream",
     "text": [
      "Hasil penjumlahan: 22\n"
     ]
    }
   ],
   "source": [
    "def jumlahkan(*args):\n",
    "    return sum(args)\n",
    "\n",
    "hasil_penjumlahan = jumlahkan(1, 2, 3, 4, 5,7)\n",
    "print(\"Hasil penjumlahan:\", hasil_penjumlahan)"
   ]
  },
  {
   "cell_type": "markdown",
   "id": "52601cdb",
   "metadata": {},
   "source": [
    "# Variabel Local dan Global"
   ]
  },
  {
   "cell_type": "code",
   "execution_count": null,
   "id": "3bb3f27d",
   "metadata": {},
   "outputs": [],
   "source": [
    "def contoh_fungsi():\n",
    "    variabel_lokal = 10\n",
    "    print(variabel_lokal)\n",
    "\n",
    "contoh_fungsi()\n",
    "# Output: 10\n",
    "\n",
    "# Tidak dapat mengakses variabel_lokal di luar fungsi\n",
    "# print(variabel_lokal)  # Akan menghasilkan NameError"
   ]
  },
  {
   "cell_type": "code",
   "execution_count": 8,
   "id": "b0f936ad",
   "metadata": {},
   "outputs": [
    {
     "name": "stdout",
     "output_type": "stream",
     "text": [
      "15\n"
     ]
    }
   ],
   "source": [
    "variabel_global = 5\n",
    "\n",
    "def fungsi_ubah_global():\n",
    "    global variabel_global\n",
    "    variabel_global = 15\n",
    "\n",
    "fungsi_ubah_global()\n",
    "print(variabel_global)\n",
    "# Output: 15"
   ]
  },
  {
   "cell_type": "markdown",
   "id": "359c4af6",
   "metadata": {},
   "source": [
    "# Konsep Parameter Wajib dan Parameter Opsional dalam Fungsi:"
   ]
  },
  {
   "cell_type": "code",
   "execution_count": 9,
   "id": "de531e0d",
   "metadata": {},
   "outputs": [
    {
     "name": "stdout",
     "output_type": "stream",
     "text": [
      "8\n",
      "10\n"
     ]
    }
   ],
   "source": [
    "def fungsi_dengan_parameter(a, b=5):\n",
    "    hasil = a + b\n",
    "    print(hasil)\n",
    "\n",
    "fungsi_dengan_parameter(3)\n",
    "# Output: 8\n",
    "fungsi_dengan_parameter(3, 7)\n",
    "# Output: 10"
   ]
  },
  {
   "cell_type": "markdown",
   "id": "bd6c0339",
   "metadata": {},
   "source": [
    "# Penggunaan Parameter Tak Berurut:"
   ]
  },
  {
   "cell_type": "code",
   "execution_count": 12,
   "id": "6fcfae1d",
   "metadata": {},
   "outputs": [
    {
     "name": "stdout",
     "output_type": "stream",
     "text": [
      "6\n"
     ]
    }
   ],
   "source": [
    "def fungsi_parameter_tak_berurut(a, b, c):\n",
    "    hasil = a + b + c\n",
    "    print(hasil)\n",
    "\n",
    "fungsi_parameter_tak_berurut(c=3, a=1, b=2)\n",
    "# Output: 6"
   ]
  },
  {
   "cell_type": "code",
   "execution_count": 11,
   "id": "8853790f",
   "metadata": {},
   "outputs": [
    {
     "name": "stdout",
     "output_type": "stream",
     "text": [
      "Suhu di Makasar adalah 100 kelvin\n"
     ]
    }
   ],
   "source": [
    "def suhu_udara (daerah, derajat = 30, satuan = 'celcius'):\n",
    "    print(f\"Suhu di {daerah} adalah {derajat} {satuan}\")\n",
    "    \n",
    "suhu_udara(satuan='kelvin', daerah='Makasar', derajat=100)"
   ]
  },
  {
   "cell_type": "markdown",
   "id": "ba4fdbbe",
   "metadata": {},
   "source": [
    "# Latihan soal"
   ]
  },
  {
   "cell_type": "markdown",
   "id": "30ecad17",
   "metadata": {},
   "source": [
    "1. Buatlah sebuah fungsi bernama tambah yang menerima dua parameter bilangan dan mengembalikan hasil penjumlahan keduanya. Buat pemanggilan fungsi dengan angka 5 dan 7, lalu cetak hasilnya.\n",
    "2. Buat fungsi sapa yang menerima dua parameter, nama dan salam. Jika salam tidak diberikan, gunakan nilai default \"Halo\". Fungsi ini harus mencetak salam beserta nama. Uji dengan memanggil fungsi tanpa menyertakan salam dan dengan menyertakan salam \"Selamat pagi\" dan nama \"Budi\".\n",
    "4. Buat fungsi jumlahkan lalu rata-ratakan yang dapat menerima sejumlah bilangan sebagai parameter, tanpa pembatasan jumlah bilangan. Fungsi ini harus mengembalikan hasil penjumlahan dan rata rata dari semua bilangan yang diberikan."
   ]
  },
  {
   "cell_type": "code",
   "execution_count": 40,
   "id": "e644c32c",
   "metadata": {},
   "outputs": [
    {
     "data": {
      "text/plain": [
       "'rendika'"
      ]
     },
     "execution_count": 40,
     "metadata": {},
     "output_type": "execute_result"
    }
   ],
   "source": [
    "siapa"
   ]
  },
  {
   "cell_type": "code",
   "execution_count": null,
   "id": "32bf3daf",
   "metadata": {},
   "outputs": [],
   "source": []
  }
 ],
 "metadata": {
  "kernelspec": {
   "display_name": "Python 3 (ipykernel)",
   "language": "python",
   "name": "python3"
  },
  "language_info": {
   "codemirror_mode": {
    "name": "ipython",
    "version": 3
   },
   "file_extension": ".py",
   "mimetype": "text/x-python",
   "name": "python",
   "nbconvert_exporter": "python",
   "pygments_lexer": "ipython3",
   "version": "3.11.4"
  },
  "toc": {
   "base_numbering": 1,
   "nav_menu": {},
   "number_sections": true,
   "sideBar": true,
   "skip_h1_title": false,
   "title_cell": "Table of Contents",
   "title_sidebar": "Contents",
   "toc_cell": false,
   "toc_position": {
    "height": "calc(100% - 180px)",
    "left": "10px",
    "top": "150px",
    "width": "167.233px"
   },
   "toc_section_display": true,
   "toc_window_display": false
  }
 },
 "nbformat": 4,
 "nbformat_minor": 5
}
