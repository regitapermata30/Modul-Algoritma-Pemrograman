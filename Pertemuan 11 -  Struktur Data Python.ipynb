{
 "cells": [
  {
   "cell_type": "markdown",
   "id": "c6c60959",
   "metadata": {},
   "source": [
    "# Hal hal yang akan diajarkan"
   ]
  },
  {
   "cell_type": "markdown",
   "id": "d7d64ddb",
   "metadata": {},
   "source": [
    "<blockquote> 1. Menjelaskan Pengenalan List dan Array </blockquote>\n",
    "<blockquote> 2. Menjelaskan Tuple dan Dictionary  </blockquote>\n",
    "<blockquote> 3. Menerapkan Operasi Aritmatika pada List/Array </blockquote>\n",
    "<blockquote> 4. Menerpakan Perulangan pada List/Array </blockquote>\n",
    "<blockquote> 5. Menerapkan Array Multidimensi </blockquote>"
   ]
  },
  {
   "cell_type": "markdown",
   "id": "18bbb318",
   "metadata": {},
   "source": [
    "# Sifat Sifat Struktur Data"
   ]
  },
  {
   "cell_type": "markdown",
   "id": "790971dd",
   "metadata": {},
   "source": [
    "| Struktur Data   | Sifat-sifat                               | Mutable/Immutable       | Ordered/Unordered       | Duplicates Allowed |\n",
    "|-----------------|-------------------------------------------|-------------------------|-------------------------|---------------------|\n",
    "| List            | Koleksi elemen yang dapat diubah          | Mutable                 | Ordered                 | Duplicates Allowed  |\n",
    "| Array (NumPy)   | Kumpulan elemen numerik multidimensi      | Mutable                 | Ordered (depends on axis)| Duplicates Allowed  |\n",
    "| Dictionary      | Pasangan kunci-nilai yang tidak berurutan | Mutable                 | Unordered               | No Duplicate Keys   |\n",
    "| Set             | Kumpulan elemen unik tanpa urutan         | Mutable (add/remove)    | Unordered               | No Duplicates       |\n",
    "| Tuple           | Koleksi elemen yang tidak dapat diubah    | Immutable               | Ordered                 | Duplicates Allowed  |\n"
   ]
  },
  {
   "cell_type": "markdown",
   "id": "bf2d35df",
   "metadata": {},
   "source": [
    "- Mutable/Immutable: Mutable, artinya elemen-elemen di dalamnya bisa diubah setelah pembuatan list.\n",
    "- Ordered/Unordered: Ordered, yang berarti list memiliki urutan tertentu. Elemen-elemennya dapat diakses berdasarkan indeks.\n",
    "- Duplicates Allowed: Duplicates allowed, artinya list dapat berisi elemen yang sama lebih dari satu kali."
   ]
  },
  {
   "cell_type": "markdown",
   "id": "4a1f9b51",
   "metadata": {},
   "source": [
    "# Menjelaskan Pengenalan List dan Array"
   ]
  },
  {
   "cell_type": "markdown",
   "id": "99b51955",
   "metadata": {},
   "source": [
    "`Dalam Python`, perbedaan antara list dan array terletak pada karakteristik mereka. List memiliki fleksibilitas lebih besar dan dapat menyimpan berbagai jenis data. Sementara itu, array (modul array di Python) membutuhkan tipe data yang seragam untuk elemen-elemennya. Jika kecepatan atau penggunaan memori adalah perhatian utama, menggunakan array untuk tipe data yang seragam bisa lebih efisien."
   ]
  },
  {
   "cell_type": "markdown",
   "id": "b9fe62e0",
   "metadata": {},
   "source": [
    "## List"
   ]
  },
  {
   "cell_type": "markdown",
   "id": "cac7d43c",
   "metadata": {},
   "source": [
    "- List: Sebuah struktur data yang dapat menyimpan kumpulan elemen dengan berbagai jenis data. \n",
    "- Karakteristik: Mutable (dapat diubah), dapat diakses dengan indeks, dan dapat menampung berbagai jenis data."
   ]
  },
  {
   "cell_type": "code",
   "execution_count": 24,
   "id": "9b714535",
   "metadata": {},
   "outputs": [],
   "source": [
    "Kosong = [] # List Kosong"
   ]
  },
  {
   "cell_type": "code",
   "execution_count": 25,
   "id": "236f6557",
   "metadata": {},
   "outputs": [],
   "source": [
    "IniList = [1, 2, 3, 'hello', 'world'] # List Bisa lebih dari satu tipe data"
   ]
  },
  {
   "cell_type": "code",
   "execution_count": 26,
   "id": "68f8d1d6",
   "metadata": {},
   "outputs": [
    {
     "name": "stdout",
     "output_type": "stream",
     "text": [
      "[1, 2, 3, 4, 5, 'a', 'b', 'c', 'd']\n"
     ]
    }
   ],
   "source": [
    "# Menggunakan Constructor, Dalam konteks pemrograman, sebuah constructor adalah metode khusus yang digunakan untuk membuat dan menginisialisasi objek dari sebuah kelas.\n",
    "\n",
    "dataku = (1, 2, 3, 4, 5, 'a', 'b', 'c', 'd')\n",
    "IniList2 = list(dataku)\n",
    "print(IniList2)"
   ]
  },
  {
   "cell_type": "code",
   "execution_count": 27,
   "id": "ed5b81c7",
   "metadata": {},
   "outputs": [
    {
     "name": "stdout",
     "output_type": "stream",
     "text": [
      "[0, 1, 2, 3, 4, 5, 6, 7, 8, 9]\n"
     ]
    }
   ],
   "source": [
    "# menggunakan looping\n",
    "IniList3 = [i for i in range(0, 10)]\n",
    "print(IniList3)"
   ]
  },
  {
   "cell_type": "code",
   "execution_count": 28,
   "id": "9a6baff2",
   "metadata": {},
   "outputs": [
    {
     "name": "stdout",
     "output_type": "stream",
     "text": [
      "['a', 'p', 'a', 'k', 'a', 'b', 'a', 'r', ' ', 'k', 'a', 'l', 'i', 'a', 'n', ' ', 's', 'e', 'm', 'u', 'a']\n"
     ]
    }
   ],
   "source": [
    "IniList4 = [i for i in \"apakabar kalian semua\"]\n",
    "print(IniList4)"
   ]
  },
  {
   "cell_type": "code",
   "execution_count": 31,
   "id": "3426ce81",
   "metadata": {},
   "outputs": [
    {
     "name": "stdout",
     "output_type": "stream",
     "text": [
      "[0, 2, 4, 6, 8]\n"
     ]
    }
   ],
   "source": [
    "IniList5 = [i for i in range(0, 10)]\n",
    "# ditambahkan if\n",
    "\n",
    "IniList6 = [i for i in IniList5 if i % 2 == 0]\n",
    "print(IniList6)"
   ]
  },
  {
   "cell_type": "code",
   "execution_count": 32,
   "id": "63fed645",
   "metadata": {},
   "outputs": [
    {
     "name": "stdout",
     "output_type": "stream",
     "text": [
      "[0, 4, 16, 36, 64]\n"
     ]
    }
   ],
   "source": [
    "# i dimanipulasi terlebih dahulu\n",
    "IniList7 = [i**2 for i in range(0, 10) if i % 2 == 0]\n",
    "print(IniList7)"
   ]
  },
  {
   "cell_type": "markdown",
   "id": "e4795d22",
   "metadata": {},
   "source": [
    "## How to access"
   ]
  },
  {
   "cell_type": "code",
   "execution_count": 37,
   "id": "c2f21e44",
   "metadata": {
    "scrolled": false
   },
   "outputs": [
    {
     "name": "stdout",
     "output_type": "stream",
     "text": [
      "[0, 1, 2, 3, 4, 5, 6, 7, 8, 10]\n",
      "[0, 2, 4, 6, 8]\n",
      "[1, 2, 3, 4]\n",
      "[2, 5, 8]\n",
      "[10, 8, 7, 6, 5, 4, 3, 2, 1, 0]\n",
      "[8, 10]\n"
     ]
    }
   ],
   "source": [
    "arrInt = [0, 1, 2, 3, 4, 5, 6, 7, 8, 10]\n",
    "\n",
    "# print(arr[<start>:<stop>:<step>]) # akses list mulai dari <start> hingga <stop>, dengan loncatan <step>\n",
    "\n",
    "print(arrInt[::]) # mengakses setiap elemen dalam list\n",
    "print(arrInt[::2]) # mengakses mulai dari index 0 hingga akhir dengan lompatan 2 index\n",
    "print(arrInt[1:5]) # mengakses setiap elemen dari index 1 hingga index 5\n",
    "print(arrInt[2:9:3]) # mengakses mulai dari index 2 hingga index 9 dengan lompatan 3 index\n",
    "print(arrInt[::-1]) # mengakses mulai dari index 0 hingga akhir dengan lompatan 1 index dari belakang\n",
    "print(arrInt[-2::]) # mengakses mulai dari index 2 dari belakang hingga akhir"
   ]
  },
  {
   "cell_type": "markdown",
   "id": "9dd101a8",
   "metadata": {},
   "source": [
    "## Beberapa function yang bisa digunakan untuk memanipulasi list"
   ]
  },
  {
   "cell_type": "markdown",
   "id": "959bc9df",
   "metadata": {},
   "source": [
    "| Fungsi  | Penulisan                | Deskripsi                                        |\n",
    "|:---------|:--------------------------|:--------------------------------------------------|\n",
    "| append  | NamaList.append(nilai)   | Menambahkan data nilai pada list                  |\n",
    "| len     | len(NamaList)            | Mencari panjang atau banyak data yang dimiliki list |\n",
    "| sum     | sum(NamaList)            | Menghitung jumlah dari semua elemen dalam list    |\n",
    "| min     | min(NamaList)            | Mengembalikan nilai terkecil dalam list           |\n",
    "| max     | max(NamaList)            | Mengembalikan nilai terbesar dalam list           |\n",
    "| insert  | NamaList.insert(index,nilai) | Menambahkan nilai di index yang dipilih       |\n",
    "| remove  | NamaList.remove(nilai)   | Menghapus nilai tertentu di dalam list            |\n",
    "| pop     | NamaList.pop()           | Mengapus data terakhir di list                    |\n",
    "| extend  | NamaList.extend(listLain) | Menambahkan sebuah list ke dalam list             |\n",
    "| clear   | NamaList.clear()         | Menghapus seluruh data di dalam list              |\n",
    "| index   | NamaList.index(value)    | Mereturnkan index list dari value                 |\n",
    "| count   | NamaList.count(value)    | Menghitung jumlah munculnya value yang dicari di dalam list |\n",
    "| sort    | NamaList.sort()          | Mengurutkan nilai list secara ascending           |\n",
    "| reverse | NamaList.reverse()       | Membalik urutan dari list                         |\n"
   ]
  },
  {
   "cell_type": "markdown",
   "id": "060067d4",
   "metadata": {},
   "source": [
    "## Array"
   ]
  },
  {
   "cell_type": "markdown",
   "id": "ad5793a5",
   "metadata": {},
   "source": [
    "- Array: Kumpulan elemen yang disusun dalam bentuk tabel dengan elemen-elemen yang memiliki indeks yang sama.\n",
    "- Karakteristik: Struktur data serupa list tetapi dalam beberapa bahasa pemrograman, array membutuhkan elemen dengan tipe data yang seragam."
   ]
  },
  {
   "cell_type": "code",
   "execution_count": 45,
   "id": "3b267cdd",
   "metadata": {},
   "outputs": [],
   "source": [
    "import array as arr"
   ]
  },
  {
   "cell_type": "code",
   "execution_count": 57,
   "id": "dcf5b66d",
   "metadata": {},
   "outputs": [],
   "source": [
    "arr_arr = arr.array('i', [1, 2, 3, 4, 5])"
   ]
  },
  {
   "cell_type": "code",
   "execution_count": 58,
   "id": "fd7a9fc4",
   "metadata": {},
   "outputs": [
    {
     "data": {
      "text/plain": [
       "array('i', [1, 2, 3, 4, 5])"
      ]
     },
     "execution_count": 58,
     "metadata": {},
     "output_type": "execute_result"
    }
   ],
   "source": [
    "arr_arr"
   ]
  },
  {
   "cell_type": "code",
   "execution_count": 50,
   "id": "db3cc98b",
   "metadata": {},
   "outputs": [],
   "source": [
    "import numpy as np"
   ]
  },
  {
   "cell_type": "code",
   "execution_count": 54,
   "id": "f6895950",
   "metadata": {},
   "outputs": [],
   "source": [
    "# Membuat numpy array dari list [1, 2, 3]\n",
    "arr_np = np.array([1, \"rend\", 2, 3])"
   ]
  },
  {
   "cell_type": "code",
   "execution_count": 55,
   "id": "95aa349c",
   "metadata": {},
   "outputs": [
    {
     "data": {
      "text/plain": [
       "array(['1', 'rend', '2', '3'], dtype='<U11')"
      ]
     },
     "execution_count": 55,
     "metadata": {},
     "output_type": "execute_result"
    }
   ],
   "source": [
    "arr_np"
   ]
  },
  {
   "cell_type": "code",
   "execution_count": 59,
   "id": "440bd7d3",
   "metadata": {},
   "outputs": [],
   "source": [
    "listExample = [1, 2, 3, 4]\n",
    "tupleExample = (5, 6, 7, 8)\n",
    "\n",
    "arr1 = [-5, 13, 113, 56]\n",
    "arr2 = [11, 56, 45, 39]\n",
    "arr3 = [9, 81, 22, 93]\n",
    "arrAll = [arr1, arr2, arr3]\n",
    "\n",
    "arrayList = np.array(listExample)\n",
    "arrayTuple = np.array(tupleExample)\n",
    "array2D = np.array(arrAll)"
   ]
  },
  {
   "cell_type": "code",
   "execution_count": 60,
   "id": "1d2adc4f",
   "metadata": {},
   "outputs": [
    {
     "data": {
      "text/plain": [
       "array([1, 2, 3, 4])"
      ]
     },
     "execution_count": 60,
     "metadata": {},
     "output_type": "execute_result"
    }
   ],
   "source": [
    "arrayList"
   ]
  },
  {
   "cell_type": "code",
   "execution_count": 61,
   "id": "442832ab",
   "metadata": {},
   "outputs": [
    {
     "data": {
      "text/plain": [
       "array([5, 6, 7, 8])"
      ]
     },
     "execution_count": 61,
     "metadata": {},
     "output_type": "execute_result"
    }
   ],
   "source": [
    "arrayTuple"
   ]
  },
  {
   "cell_type": "code",
   "execution_count": 62,
   "id": "3a558a4e",
   "metadata": {},
   "outputs": [
    {
     "data": {
      "text/plain": [
       "array([[ -5,  13, 113,  56],\n",
       "       [ 11,  56,  45,  39],\n",
       "       [  9,  81,  22,  93]])"
      ]
     },
     "execution_count": 62,
     "metadata": {},
     "output_type": "execute_result"
    }
   ],
   "source": [
    "array2D"
   ]
  },
  {
   "cell_type": "markdown",
   "id": "1508e1c5",
   "metadata": {},
   "source": [
    "## How to access"
   ]
  },
  {
   "cell_type": "code",
   "execution_count": 114,
   "id": "5110ca42",
   "metadata": {},
   "outputs": [],
   "source": [
    "# sama kayak list :)"
   ]
  },
  {
   "cell_type": "markdown",
   "id": "40083789",
   "metadata": {},
   "source": [
    "# numpy.arange dan numpy.linspace"
   ]
  },
  {
   "cell_type": "markdown",
   "id": "2399c137",
   "metadata": {},
   "source": [
    "## np.arrange()"
   ]
  },
  {
   "cell_type": "markdown",
   "id": "8d26c955",
   "metadata": {},
   "source": [
    "`np.arange` Method np.arange digunakan untuk mendeklarasikan dan menginisialisasi nilai array dengan nilai yang memiliki jarak yang sama dalam interval tertentu. Berikut adalah format penulisannya:"
   ]
  },
  {
   "cell_type": "markdown",
   "id": "6b11b038",
   "metadata": {},
   "source": [
    "```python\n",
    "arrArange = np.arange(<start>, <stop>, <step>, <dtype>)\n",
    "```\n",
    "-  start memiliki nilai default 0\n",
    "-  stop wajib dituliskan\n",
    "-  step memiliki nilai default 1\n",
    "-  dtype memiliki nilai default int"
   ]
  },
  {
   "cell_type": "code",
   "execution_count": 65,
   "id": "ed012b58",
   "metadata": {
    "scrolled": true
   },
   "outputs": [
    {
     "name": "stdout",
     "output_type": "stream",
     "text": [
      "arrArange1: [0 1 2 3 4 5 6 7 8 9]\n",
      "arrArange2: [2 3 4 5 6 7 8]\n",
      "arrArange3: [ 2  5  8 11]\n",
      "arrArange4: [1. 3. 5. 7. 9.]\n"
     ]
    }
   ],
   "source": [
    "arrArange1 = np.arange(10)\n",
    "arrArange2 = np.arange(2, 9)\n",
    "arrArange3 = np.arange(2, 12, 3)\n",
    "arrArange4 = np.arange(1, 10, 2, float)\n",
    "\n",
    "print('arrArange1:', arrArange1)\n",
    "print('arrArange2:',arrArange2)\n",
    "print('arrArange3:',arrArange3)\n",
    "print('arrArange4:',arrArange4)"
   ]
  },
  {
   "cell_type": "markdown",
   "id": "43c9ea89",
   "metadata": {},
   "source": [
    "## np.linspace()"
   ]
  },
  {
   "cell_type": "markdown",
   "id": "7cf60603",
   "metadata": {},
   "source": [
    "`np.linspace` Method ini mirip dengan np.arange, namun perbedaannya ada di parameter step-nya. Apabila step pada np.arange dideklarasikan secara manual, maka step pada np.linspace dibuat secara otomatis berdasarkan 'banyak data yang diinginkan' dari start hingga stop. Semakin banyak data yang diinginkan, maka semakin kecil pula stepnya dan sebaliknya. Perhatikan format berikut:"
   ]
  },
  {
   "cell_type": "markdown",
   "id": "268d302e",
   "metadata": {},
   "source": [
    "```python\n",
    "arrLins = np.linspace(<start>, <stop>, <num>, <retstep>, <dtype>)\n",
    "```\n",
    "-  start wajib dituliskan\n",
    "-  stop wajib dituliskan\n",
    "-  num memiliki nilai default 50\n",
    "-  retstep memiliki nilai default False\n",
    "-  dtype memiliki nilai default float"
   ]
  },
  {
   "cell_type": "code",
   "execution_count": 67,
   "id": "726c562b",
   "metadata": {},
   "outputs": [
    {
     "name": "stdout",
     "output_type": "stream",
     "text": [
      "arrLins1: [2.         2.02040816 2.04081633 2.06122449 2.08163265 2.10204082\n",
      " 2.12244898 2.14285714 2.16326531 2.18367347 2.20408163 2.2244898\n",
      " 2.24489796 2.26530612 2.28571429 2.30612245 2.32653061 2.34693878\n",
      " 2.36734694 2.3877551  2.40816327 2.42857143 2.44897959 2.46938776\n",
      " 2.48979592 2.51020408 2.53061224 2.55102041 2.57142857 2.59183673\n",
      " 2.6122449  2.63265306 2.65306122 2.67346939 2.69387755 2.71428571\n",
      " 2.73469388 2.75510204 2.7755102  2.79591837 2.81632653 2.83673469\n",
      " 2.85714286 2.87755102 2.89795918 2.91836735 2.93877551 2.95918367\n",
      " 2.97959184 3.        ]\n",
      "arrLins2: [2.   2.25 2.5  2.75 3.  ]\n",
      "arrLins3: [2 2 2 2 3]\n",
      "arrLins4: (array([2.  , 2.25, 2.5 , 2.75, 3.  ]), 0.25)\n"
     ]
    }
   ],
   "source": [
    "arrLins1 = np.linspace(2, 3)\n",
    "arrLins2 = np.linspace(2, 3, 5)\n",
    "arrLins3 = np.linspace(2, 3, 5, dtype=int)\n",
    "arrLins4 = np.linspace(2, 3, 5, retstep=True)\n",
    "\n",
    "print('arrLins1:', arrLins1) # akan ada sebanyak 50 data berjarak sama dari 2 sampai 3\n",
    "print('arrLins2:', arrLins2) # Output: [2.   2.25 2.5  2.75 3.  ]\n",
    "print('arrLins3:', arrLins3) # Output: [2 2 2 2 3]\n",
    "print('arrLins4:', arrLins4) # Output: (array([2.  , 2.25, 2.5 , 2.75, 3.  ]), 0.25)"
   ]
  },
  {
   "cell_type": "markdown",
   "id": "3bdc05e6",
   "metadata": {},
   "source": [
    "## np.zeros() & numpy.ones()"
   ]
  },
  {
   "cell_type": "code",
   "execution_count": 147,
   "id": "6605d4dd",
   "metadata": {},
   "outputs": [
    {
     "name": "stdout",
     "output_type": "stream",
     "text": [
      "[0. 0. 0. 0. 0.] \n",
      " ---------\n",
      "[0 0 0 0 0] \n",
      " ---------\n",
      "[[0. 0. 0. 0.]\n",
      " [0. 0. 0. 0.]\n",
      " [0. 0. 0. 0.]] \n",
      " ---------\n",
      "[[[0. 0. 0. 0.]\n",
      "  [0. 0. 0. 0.]\n",
      "  [0. 0. 0. 0.]]\n",
      "\n",
      " [[0. 0. 0. 0.]\n",
      "  [0. 0. 0. 0.]\n",
      "  [0. 0. 0. 0.]]] \n",
      " ---------\n",
      "Jumlah dimensi array_2d: 2\n",
      "Jumlah dimensi array_3d: 3\n"
     ]
    }
   ],
   "source": [
    "arrZero1 = np.zeros(5)\n",
    "arrZero2 = np.zeros(5, dtype=int)\n",
    "arrZero3 = np.zeros((3, 4))\n",
    "arrZero4 = np.zeros((2, 3, 4))\n",
    "\n",
    "\n",
    "print(arrZero1, \"\\n\", \"---------\")\n",
    "print(arrZero2, \"\\n\", \"---------\")\n",
    "print(arrZero3, \"\\n\", \"---------\")\n",
    "print(arrZero4, \"\\n\", \"---------\")\n",
    "\n",
    "\n",
    "print(\"Jumlah dimensi array_2d:\", arrZero3.ndim)\n",
    "print(\"Jumlah dimensi array_3d:\", arrZero4.ndim)"
   ]
  },
  {
   "cell_type": "markdown",
   "id": "555c3557",
   "metadata": {},
   "source": [
    "# Operasi Aritmatika pada List/Array"
   ]
  },
  {
   "cell_type": "code",
   "execution_count": 70,
   "id": "bd374fb8",
   "metadata": {},
   "outputs": [],
   "source": [
    "# Mendefinisikan dua list\n",
    "list_1 = [1, 2, 3, 4, 5]\n",
    "list_2 = [6, 7, 8, 9, 10]"
   ]
  },
  {
   "cell_type": "code",
   "execution_count": 74,
   "id": "bf73a720",
   "metadata": {},
   "outputs": [
    {
     "data": {
      "text/plain": [
       "[1, 2, 3, 4, 5, 6, 7, 8, 9, 10]"
      ]
     },
     "execution_count": 74,
     "metadata": {},
     "output_type": "execute_result"
    }
   ],
   "source": [
    "list_1 + list_2"
   ]
  },
  {
   "cell_type": "code",
   "execution_count": 77,
   "id": "0b7e1e7d",
   "metadata": {},
   "outputs": [],
   "source": [
    "# list_1 / list_2\n",
    "# list_1 + list_2\n",
    "# list_1 * list_2"
   ]
  },
  {
   "cell_type": "code",
   "execution_count": 71,
   "id": "c15b352a",
   "metadata": {},
   "outputs": [
    {
     "name": "stdout",
     "output_type": "stream",
     "text": [
      "Penjumlahan list: [7, 9, 11, 13, 15]\n",
      "Pengurangan list: [-5, -5, -5, -5, -5]\n",
      "Perkalian list: [6, 14, 24, 36, 50]\n",
      "Pembagian list: [6.0, 3.5, 2.6666666666666665, 2.25, 2.0]\n"
     ]
    }
   ],
   "source": [
    "# Penjumlahan list\n",
    "hasil_penjumlahan = [a + b for a, b in zip(list_1, list_2)]\n",
    "print(\"Penjumlahan list:\", hasil_penjumlahan)  # Output: [7, 9, 11, 13, 15]\n",
    "\n",
    "# Pengurangan list\n",
    "hasil_pengurangan = [a - b for a, b in zip(list_1, list_2)]\n",
    "print(\"Pengurangan list:\", hasil_pengurangan)  # Output: [-5, -5, -5, -5, -5]\n",
    "\n",
    "# Perkalian list (elemen-wise)\n",
    "hasil_perkalian = [a * b for a, b in zip(list_1, list_2)]\n",
    "print(\"Perkalian list:\", hasil_perkalian)  # Output: [6, 14, 24, 36, 50]\n",
    "\n",
    "# Pembagian list (elemen-wise)\n",
    "hasil_pembagian = [a / b for a, b in zip(list_2, list_1)]\n",
    "print(\"Pembagian list:\", hasil_pembagian)  # Output: [6.0, 3.5, 2.6666666666666665, 2.25, 2.0]"
   ]
  },
  {
   "cell_type": "code",
   "execution_count": 101,
   "id": "a063d3fa",
   "metadata": {},
   "outputs": [
    {
     "name": "stdout",
     "output_type": "stream",
     "text": [
      "(1, 6)\n",
      "(2, 7)\n",
      "(3, 8)\n",
      "(4, 9)\n",
      "(5, 10)\n"
     ]
    }
   ],
   "source": [
    "for hasil_zip in zip(list_1, list_2):\n",
    "    print(hasil_zip)"
   ]
  },
  {
   "cell_type": "code",
   "execution_count": 99,
   "id": "295c4734",
   "metadata": {},
   "outputs": [
    {
     "name": "stdout",
     "output_type": "stream",
     "text": [
      "1 + 6 = 7\n",
      "2 + 7 = 9\n",
      "3 + 8 = 11\n",
      "4 + 9 = 13\n",
      "5 + 10 = 15\n"
     ]
    }
   ],
   "source": [
    "for a,b in zip(list_1, list_2):\n",
    "    print(a, \"+\", b, \"=\", a + b)"
   ]
  },
  {
   "cell_type": "code",
   "execution_count": null,
   "id": "84781925",
   "metadata": {},
   "outputs": [],
   "source": [
    "# list_1 = [1, 2, 3, 4, 5]\n",
    "# list_2 = [6, 7, 8, 9, 10]\n",
    "\n",
    "# # Penjumlahan list dengan loop\n",
    "# hasil_penjumlahan = []\n",
    "# for a, b in zip(list_1, list_2):\n",
    "#     hasil_penjumlahan.append(a + b)\n",
    "# print(\"Penjumlahan list:\", hasil_penjumlahan)  # Output: [7, 9, 11, 13, 15]\n",
    "\n",
    "# # Pengurangan list dengan loop\n",
    "# hasil_pengurangan = []\n",
    "# for a, b in zip(list_1, list_2):\n",
    "#     hasil_pengurangan.append(a - b)\n",
    "# print(\"Pengurangan list:\", hasil_pengurangan)  # Output: [-5, -5, -5, -5, -5]\n",
    "\n",
    "# # Perkalian list (elemen-wise) dengan loop\n",
    "# hasil_perkalian = []\n",
    "# for a, b in zip(list_1, list_2):\n",
    "#     hasil_perkalian.append(a * b)\n",
    "# print(\"Perkalian list:\", hasil_perkalian)  # Output: [6, 14, 24, 36, 50]\n",
    "\n",
    "# # Pembagian list (elemen-wise) dengan loop\n",
    "# hasil_pembagian = []\n",
    "# for a, b in zip(list_2, list_1):\n",
    "#     hasil_pembagian.append(a / b)\n",
    "# print(\"Pembagian list:\", hasil_pembagian)  # Output: [6.0, 3.5, 2.6666666666666665, 2.25, 2.0]"
   ]
  },
  {
   "cell_type": "markdown",
   "id": "4859a7f8",
   "metadata": {},
   "source": [
    "# Dictionary"
   ]
  },
  {
   "cell_type": "markdown",
   "id": "855d9efe",
   "metadata": {},
   "source": [
    "Membuat dictionary kosong"
   ]
  },
  {
   "cell_type": "code",
   "execution_count": 102,
   "id": "7db844a3",
   "metadata": {},
   "outputs": [],
   "source": [
    "my_dict = {}\n",
    "\n",
    "# Membuat dictionary dengan pasangan kunci-nilai\n",
    "person = {\n",
    "    'nama': 'John',\n",
    "    'umur': 30,\n",
    "    'pekerjaan': 'developer'\n",
    "}"
   ]
  },
  {
   "cell_type": "markdown",
   "id": "199c5282",
   "metadata": {},
   "source": [
    "Mengakses nilai"
   ]
  },
  {
   "cell_type": "code",
   "execution_count": 103,
   "id": "07c66bda",
   "metadata": {},
   "outputs": [
    {
     "name": "stdout",
     "output_type": "stream",
     "text": [
      "Nama: John\n",
      "Umur: 30\n"
     ]
    }
   ],
   "source": [
    "# Mengakses nilai dengan kunci 'nama'\n",
    "nama = person['nama']\n",
    "print(\"Nama:\", nama)  # Output: Nama: John\n",
    "\n",
    "# Mengakses nilai dengan kunci 'umur'\n",
    "umur = person['umur']\n",
    "print(\"Umur:\", umur)  # Output: Umur: 30"
   ]
  },
  {
   "cell_type": "markdown",
   "id": "dee1e618",
   "metadata": {},
   "source": [
    "Menambahkan pasangan"
   ]
  },
  {
   "cell_type": "code",
   "execution_count": 104,
   "id": "7740b8b0",
   "metadata": {},
   "outputs": [
    {
     "name": "stdout",
     "output_type": "stream",
     "text": [
      "{'nama': 'John', 'umur': 31, 'pekerjaan': 'developer', 'kota': 'Jakarta'}\n"
     ]
    }
   ],
   "source": [
    "# Menambahkan pasangan kunci-nilai baru\n",
    "person['kota'] = 'Jakarta'\n",
    "\n",
    "# Memperbarui nilai untuk kunci yang sudah ada\n",
    "person['umur'] = 31\n",
    "\n",
    "print(person)\n",
    "# Output: {'nama': 'John', 'umur': 31, 'pekerjaan': 'developer', 'kota': 'Jakarta'}"
   ]
  },
  {
   "cell_type": "markdown",
   "id": "39bc4f18",
   "metadata": {},
   "source": [
    "Menghapus pasangan"
   ]
  },
  {
   "cell_type": "code",
   "execution_count": 105,
   "id": "72a8073a",
   "metadata": {},
   "outputs": [
    {
     "name": "stdout",
     "output_type": "stream",
     "text": [
      "{'nama': 'John', 'kota': 'Jakarta'}\n",
      "developer\n"
     ]
    }
   ],
   "source": [
    "# Menghapus pasangan kunci-nilai 'umur'\n",
    "del person['umur']\n",
    "\n",
    "# Menghapus dan mendapatkan nilai yang dihapus dari kunci 'pekerjaan'\n",
    "pekerjaan = person.pop('pekerjaan')\n",
    "\n",
    "print(person)   # Output: {'nama': 'John', 'kota': 'Jakarta'}\n",
    "print(pekerjaan)  # Output: developer\n"
   ]
  },
  {
   "cell_type": "markdown",
   "id": "6f726454",
   "metadata": {},
   "source": [
    "# Latihan Soal"
   ]
  },
  {
   "cell_type": "markdown",
   "id": "476ee137",
   "metadata": {},
   "source": [
    "`Soal 1: Pengenalan List dan Array`\n",
    "\n",
    "Buatlah program Python yang menerima dua list numerik dengan panjang yang sama. Program tersebut kemudian melakukan operasi penjumlahan, pengurangan, perkalian, dan pembagian pada setiap elemen dari kedua list tersebut. Tampilkan hasil operasi aritmatika tersebut."
   ]
  },
  {
   "cell_type": "markdown",
   "id": "ae8ade47",
   "metadata": {},
   "source": [
    "`Soal 2: Tuple, Dictionary, dan Perulangan`\n",
    "\n",
    "Buatlah sebuah program Python yang meminta pengguna untuk memasukkan data (nama dan usia) sejumlah lima orang, dan simpan data tersebut ke dalam sebuah dictionary. Setelah itu, gunakan perulangan untuk menampilkan setiap pasangan nama dan usia dari dictionary tersebut."
   ]
  },
  {
   "cell_type": "markdown",
   "id": "be7925c0",
   "metadata": {},
   "source": [
    "`Soal 3: Array Multidimensi`\n",
    "\n",
    "Buatlah sebuah program Python menggunakan NumPy atau array biasa dalam Python untuk membuat sebuah array dua dimensi berisi angka acak. Program tersebut kemudian mencari nilai maksimum dari setiap baris dan nilai minimum dari setiap kolom dalam array tersebut. Tampilkan nilai maksimum dari setiap baris dan nilai minimum dari setiap kolom."
   ]
  },
  {
   "cell_type": "code",
   "execution_count": null,
   "id": "d1a712bd",
   "metadata": {},
   "outputs": [],
   "source": []
  }
 ],
 "metadata": {
  "kernelspec": {
   "display_name": "Python 3 (ipykernel)",
   "language": "python",
   "name": "python3"
  },
  "language_info": {
   "codemirror_mode": {
    "name": "ipython",
    "version": 3
   },
   "file_extension": ".py",
   "mimetype": "text/x-python",
   "name": "python",
   "nbconvert_exporter": "python",
   "pygments_lexer": "ipython3",
   "version": "3.11.4"
  },
  "toc": {
   "base_numbering": 1,
   "nav_menu": {},
   "number_sections": true,
   "sideBar": true,
   "skip_h1_title": false,
   "title_cell": "Table of Contents",
   "title_sidebar": "Contents",
   "toc_cell": false,
   "toc_position": {
    "height": "calc(100% - 180px)",
    "left": "10px",
    "top": "150px",
    "width": "320.542px"
   },
   "toc_section_display": true,
   "toc_window_display": true
  }
 },
 "nbformat": 4,
 "nbformat_minor": 5
}
