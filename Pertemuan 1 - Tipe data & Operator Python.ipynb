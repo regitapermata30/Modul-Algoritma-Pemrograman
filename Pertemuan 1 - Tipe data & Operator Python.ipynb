{
 "cells": [
  {
   "cell_type": "markdown",
   "id": "b6738691",
   "metadata": {},
   "source": [
    "# Pertemuan 1 - Tipe data & Operator Python"
   ]
  },
  {
   "cell_type": "markdown",
   "id": "4e958f3e",
   "metadata": {},
   "source": [
    "## How to print"
   ]
  },
  {
   "cell_type": "code",
   "execution_count": 81,
   "id": "5bd51bef",
   "metadata": {},
   "outputs": [
    {
     "name": "stdout",
     "output_type": "stream",
     "text": [
      "Hello, World!\n"
     ]
    }
   ],
   "source": [
    "print(\"Hello, World!\")"
   ]
  },
  {
   "cell_type": "code",
   "execution_count": 80,
   "id": "efed13fb",
   "metadata": {},
   "outputs": [
    {
     "name": "stdout",
     "output_type": "stream",
     "text": [
      "Hello, World!\n"
     ]
    }
   ],
   "source": [
    "print(f\"Hello, World!\")"
   ]
  },
  {
   "cell_type": "markdown",
   "id": "66d3e516",
   "metadata": {},
   "source": [
    "## Komentar"
   ]
  },
  {
   "cell_type": "code",
   "execution_count": 74,
   "id": "54aa5921",
   "metadata": {},
   "outputs": [
    {
     "name": "stdout",
     "output_type": "stream",
     "text": [
      "Komentar tidak akan mengeluarkan output apapun\n"
     ]
    }
   ],
   "source": [
    "# ini namanya komentar gaes!!!\n",
    "\n",
    "\"\"\"\n",
    "ini juga komentar gaes, tapi bisa banyak baris\n",
    "ini juga komentar gaes, tapi bisa banyak baris\n",
    "ini juga komentar gaes, tapi bisa banyak baris\n",
    "ini juga komentar gaes, tapi bisa banyak baris\n",
    "\"\"\"\n",
    "\n",
    "print(\"Komentar tidak akan mengeluarkan output apapun\")"
   ]
  },
  {
   "cell_type": "markdown",
   "id": "8f6918cd",
   "metadata": {},
   "source": [
    "## Variable"
   ]
  },
  {
   "cell_type": "markdown",
   "id": "1765d4b7",
   "metadata": {},
   "source": [
    "Aturan Penulisan Variabel:\n",
    "- Nama variabel boleh diawali menggunakan huruf atau garis bawah _. Contoh: nama, _nama, namaKu, nama_variabel\n",
    "- Karakter selanjutnya dapat berupa huruf, garis bawah _ atau angka. Contoh: __nama, n2, nilai1\n",
    "- Variabel tidak boleh dimulai dengan angka ataupun simbol.\n",
    "- Variabel tidak boleh berupa kata kunci (keyword) yang ada dalam Python. Contoh: if, else, while, for, dan masih banyak lagi"
   ]
  },
  {
   "cell_type": "code",
   "execution_count": 84,
   "id": "d484d915",
   "metadata": {},
   "outputs": [],
   "source": [
    "# Variabel\n",
    "Nama = \"Rendika\"\n",
    "umur = 50\n",
    "status_pernikahan = \"Belum Menikah\"\n",
    "statuspernikahan = \"Menikah\""
   ]
  },
  {
   "cell_type": "code",
   "execution_count": null,
   "id": "97f244bd",
   "metadata": {},
   "outputs": [],
   "source": []
  },
  {
   "cell_type": "markdown",
   "id": "55da21c0",
   "metadata": {},
   "source": [
    "# Tipe Data"
   ]
  },
  {
   "cell_type": "code",
   "execution_count": 23,
   "id": "dffc277f",
   "metadata": {},
   "outputs": [
    {
     "name": "stdout",
     "output_type": "stream",
     "text": [
      "Nama: Rendika dan Umur: 50\n",
      "Nama: Rendika dan Umur: 50\n",
      "\n",
      "\n",
      "Rendika\n",
      "dan\n",
      "sayyid\n"
     ]
    }
   ],
   "source": [
    "# Tipe data\n",
    "bilangan_bulat = 10\n",
    "bilangan_desimal = 3.14\n",
    "teks = \"Halo, dunia!\"\n",
    "teks_multibaris = '''Rendika\n",
    "dan\n",
    "sayyid'''\n",
    "boolean = True\n",
    "\n",
    "# Menampilkan nilai variabel\n",
    "print('Nama:', nama, 'dan Umur:', umur)\n",
    "print(f\"Nama: {nama} dan Umur: {umur}\")\n",
    "print('\\n')\n",
    "print(teks_multibaris)"
   ]
  },
  {
   "cell_type": "markdown",
   "id": "807ad715",
   "metadata": {},
   "source": [
    "## MultiStatment Variabel"
   ]
  },
  {
   "cell_type": "code",
   "execution_count": 39,
   "id": "941bc70d",
   "metadata": {},
   "outputs": [],
   "source": [
    "nama = \"Sayyid\"\n",
    "a = 10; b = 50\n",
    "kesibukan, keterangan = 'Berkuliah','Institut Teknologi Telkom Surabaya'"
   ]
  },
  {
   "cell_type": "code",
   "execution_count": 40,
   "id": "9679c7aa",
   "metadata": {},
   "outputs": [
    {
     "name": "stdout",
     "output_type": "stream",
     "text": [
      "Nama saya Sayyid dan Umur saya adalah 60 Tahun dan sedang Berkuliah di Institut Teknologi Telkom Surabaya\n"
     ]
    }
   ],
   "source": [
    "print(f\"Nama saya {nama} dan Umur saya adalah {a+b} Tahun dan sedang {kesibukan} di {keterangan}\")"
   ]
  },
  {
   "cell_type": "markdown",
   "id": "e2072f1b",
   "metadata": {},
   "source": [
    "## Input dari Pengguna"
   ]
  },
  {
   "cell_type": "code",
   "execution_count": 126,
   "id": "0dcf0de0",
   "metadata": {},
   "outputs": [
    {
     "name": "stdout",
     "output_type": "stream",
     "text": [
      "Masukkan nama Anda: habil\n",
      "Berapa harganya?: 50000\n",
      "\n",
      "\n",
      "Halo, aku habil dan aku sudah makan ayam goreng yang harganya Rp 50000\n"
     ]
    }
   ],
   "source": [
    "nama = input(\"Masukkan nama Anda: \")\n",
    "makan = 'sudah'\n",
    "harga = int(input(\"Berapa harganya?: \"))\n",
    "\n",
    "print('\\n')\n",
    "print(\"Halo, aku\", nama, 'dan aku', makan, 'makan ayam goreng yang harganya Rp', harga)"
   ]
  },
  {
   "cell_type": "markdown",
   "id": "fb23fc54",
   "metadata": {},
   "source": [
    "## Import Modul"
   ]
  },
  {
   "cell_type": "code",
   "execution_count": 56,
   "id": "e68fca31",
   "metadata": {},
   "outputs": [],
   "source": [
    "# import seluruh modul\n",
    "import pandas as pd"
   ]
  },
  {
   "cell_type": "code",
   "execution_count": 131,
   "id": "179a1fff",
   "metadata": {},
   "outputs": [],
   "source": [
    "import numpy"
   ]
  },
  {
   "cell_type": "code",
   "execution_count": 57,
   "id": "60e74e92",
   "metadata": {},
   "outputs": [],
   "source": [
    "# import beberapa komponen di modul\n",
    "from math import sqrt\n",
    "from pandas import DataFrame\n",
    "from numpy import random"
   ]
  },
  {
   "cell_type": "markdown",
   "id": "e4bbf066",
   "metadata": {},
   "source": [
    "## Percabangan"
   ]
  },
  {
   "cell_type": "code",
   "execution_count": 135,
   "id": "ae9eec4f",
   "metadata": {},
   "outputs": [
    {
     "name": "stdout",
     "output_type": "stream",
     "text": [
      "Masukkan nilaimu: 20\n",
      "Semoga Lulus\n"
     ]
    }
   ],
   "source": [
    "nilai = int(input(\"Masukkan nilaimu: \"))\n",
    "\n",
    "if nilai >= 70:\n",
    "    print(\"Selamat anda lulus MatKul Algoritma & Pemrograman!\")\n",
    "elif nilai == 20:\n",
    "    print('Semoga Lulus')\n",
    "else:\n",
    "    print(\"Maaf anda tidak lulus\")"
   ]
  },
  {
   "cell_type": "markdown",
   "id": "0637365b",
   "metadata": {},
   "source": [
    "## Looping and While"
   ]
  },
  {
   "cell_type": "code",
   "execution_count": 138,
   "id": "b027a0e8",
   "metadata": {},
   "outputs": [
    {
     "name": "stdout",
     "output_type": "stream",
     "text": [
      "1\n",
      "Namaku 1\n",
      "2\n",
      "Namaku 2\n",
      "3\n",
      "Namaku 3\n",
      "4\n",
      "Namaku 4\n"
     ]
    }
   ],
   "source": [
    "for i in range(1,5):\n",
    "    print(i)\n",
    "    print('Namaku',i)"
   ]
  },
  {
   "cell_type": "code",
   "execution_count": 141,
   "id": "c26dae1b",
   "metadata": {},
   "outputs": [
    {
     "name": "stdout",
     "output_type": "stream",
     "text": [
      "Nama Saya Rendika\n",
      "Ini cuman nyoba Rendika\n",
      "Nama Saya Sayyid\n",
      "Ini cuman nyoba Sayyid\n",
      "Nama Saya Habil\n",
      "Ini cuman nyoba Habil\n",
      "Nama Saya Arifin\n",
      "Ini cuman nyoba Arifin\n"
     ]
    }
   ],
   "source": [
    "names = ['Rendika',\"Sayyid\",\"Habil\",\"Arifin\"]\n",
    "for name in names:\n",
    "    print(\"Nama Saya\",name)\n",
    "    print(\"Ini cuman nyoba\",name)"
   ]
  },
  {
   "cell_type": "markdown",
   "id": "0ecea2cc",
   "metadata": {},
   "source": [
    "## Fungsi"
   ]
  },
  {
   "cell_type": "code",
   "execution_count": 143,
   "id": "f68fffc1",
   "metadata": {},
   "outputs": [],
   "source": [
    "def jumlah(angka1, angka2):\n",
    "    hasil = angka1+angka2\n",
    "    return hasil\n",
    "\n",
    "def pengurangan(angka1, angka2):\n",
    "    hasil = angka1-angka2\n",
    "    return hasil"
   ]
  },
  {
   "cell_type": "code",
   "execution_count": 144,
   "id": "1b53cb65",
   "metadata": {},
   "outputs": [
    {
     "data": {
      "text/plain": [
       "14"
      ]
     },
     "execution_count": 144,
     "metadata": {},
     "output_type": "execute_result"
    }
   ],
   "source": [
    "jumlah(10,4)"
   ]
  },
  {
   "cell_type": "code",
   "execution_count": 146,
   "id": "be5f7993",
   "metadata": {},
   "outputs": [
    {
     "data": {
      "text/plain": [
       "-5"
      ]
     },
     "execution_count": 146,
     "metadata": {},
     "output_type": "execute_result"
    }
   ],
   "source": [
    "pengurangan(10,15)"
   ]
  },
  {
   "cell_type": "markdown",
   "id": "8a40abf0",
   "metadata": {},
   "source": [
    "# Latihan soal \n",
    "cara yang baik untuk mempraktikkan apa yang telah Anda pelajari.\n",
    "Berikut adalah beberapa contoh soal yang mudah:"
   ]
  },
  {
   "cell_type": "markdown",
   "id": "5d25a8b3",
   "metadata": {},
   "source": [
    "Kenalin diri kalian menggunakan beberapa aspek diatas. lalu kumpulkan ke-link berikut :"
   ]
  },
  {
   "cell_type": "markdown",
   "id": "906685f8",
   "metadata": {},
   "source": [
    "1. Buatlah sebuah program Python untuk menghitung luas segitiga dengan rumus luas = 0.5 * alas * tinggi.\n",
    "2. Tulis program Python yang meminta pengguna untuk memasukkan dua angka dan menampilkan hasil penjumlahan keduanya.\n",
    "3. Buatlah program Python yang mengubah suhu dalam derajat Celsius menjadi derajat Fahrenheit.\n",
    "4. Tulis program Python untuk menghitung rata-rata dari tiga angka yang dimasukkan oleh pengguna.\n",
    "5. Buat program Python sederhana yang menghitung luas dan keliling persegi."
   ]
  },
  {
   "cell_type": "code",
   "execution_count": 86,
   "id": "6bc3550f",
   "metadata": {},
   "outputs": [
    {
     "ename": "NameError",
     "evalue": "name 'pri' is not defined",
     "output_type": "error",
     "traceback": [
      "\u001b[1;31m---------------------------------------------------------------------------\u001b[0m",
      "\u001b[1;31mNameError\u001b[0m                                 Traceback (most recent call last)",
      "Cell \u001b[1;32mIn[86], line 1\u001b[0m\n\u001b[1;32m----> 1\u001b[0m pri\n",
      "\u001b[1;31mNameError\u001b[0m: name 'pri' is not defined"
     ]
    }
   ],
   "source": [
    "pri"
   ]
  },
  {
   "cell_type": "code",
   "execution_count": 88,
   "id": "dc07f348",
   "metadata": {},
   "outputs": [
    {
     "name": "stdout",
     "output_type": "stream",
     "text": [
      "'sayyid'\n"
     ]
    }
   ],
   "source": [
    "print(\"'sayyid'\")"
   ]
  },
  {
   "cell_type": "code",
   "execution_count": 89,
   "id": "e09b5c66",
   "metadata": {},
   "outputs": [
    {
     "name": "stdout",
     "output_type": "stream",
     "text": [
      "\"sayyid\"\n"
     ]
    }
   ],
   "source": [
    "print('\"sayyid\"')"
   ]
  },
  {
   "cell_type": "code",
   "execution_count": 91,
   "id": "d374daff",
   "metadata": {},
   "outputs": [
    {
     "name": "stdout",
     "output_type": "stream",
     "text": [
      "\\\n"
     ]
    }
   ],
   "source": [
    "print(\"\")"
   ]
  },
  {
   "cell_type": "code",
   "execution_count": 92,
   "id": "dfbc4476",
   "metadata": {},
   "outputs": [
    {
     "name": "stdout",
     "output_type": "stream",
     "text": [
      "\\\n"
     ]
    }
   ],
   "source": [
    "print('\\\\')"
   ]
  },
  {
   "cell_type": "code",
   "execution_count": 93,
   "id": "e1223149",
   "metadata": {},
   "outputs": [
    {
     "data": {
      "text/plain": [
       "'55'"
      ]
     },
     "execution_count": 93,
     "metadata": {},
     "output_type": "execute_result"
    }
   ],
   "source": [
    "\"5\"*2"
   ]
  },
  {
   "cell_type": "code",
   "execution_count": 103,
   "id": "549e045b",
   "metadata": {},
   "outputs": [
    {
     "data": {
      "text/plain": [
       "5.0"
      ]
     },
     "execution_count": 103,
     "metadata": {},
     "output_type": "execute_result"
    }
   ],
   "source": [
    "lima = float(5)\n",
    "lima"
   ]
  },
  {
   "cell_type": "code",
   "execution_count": 104,
   "id": "72b0c1b4",
   "metadata": {},
   "outputs": [
    {
     "ename": "SyntaxError",
     "evalue": "invalid syntax (1185393922.py, line 1)",
     "output_type": "error",
     "traceback": [
      "\u001b[1;36m  Cell \u001b[1;32mIn[104], line 1\u001b[1;36m\u001b[0m\n\u001b[1;33m    ini untuk mengalikan luas segitiga dengan kotak\u001b[0m\n\u001b[1;37m        ^\u001b[0m\n\u001b[1;31mSyntaxError\u001b[0m\u001b[1;31m:\u001b[0m invalid syntax\n"
     ]
    }
   ],
   "source": [
    "ini untuk mengalikan luas segitiga dengan kotak\n",
    "luas_segitiga_kotak = 1/2 * a * t * s ** 2"
   ]
  },
  {
   "cell_type": "code",
   "execution_count": 111,
   "id": "5d188231",
   "metadata": {},
   "outputs": [
    {
     "name": "stdout",
     "output_type": "stream",
     "text": [
      "False\n"
     ]
    }
   ],
   "source": [
    "# Operator perbandingan\n",
    "# a\n",
    "x = 10\n",
    "z = 15\n",
    "g = x == z\n",
    "h = a != b\n",
    "i = a >= b\n",
    "j = a <= b\n",
    "\n",
    "print(g)"
   ]
  },
  {
   "cell_type": "code",
   "execution_count": 115,
   "id": "e471e737",
   "metadata": {},
   "outputs": [
    {
     "data": {
      "text/plain": [
       "False"
      ]
     },
     "execution_count": 115,
     "metadata": {},
     "output_type": "execute_result"
    }
   ],
   "source": [
    "# logika dan\n",
    "\n",
    "a = \"Habil\"\n",
    "b = \"Arifin\"\n",
    "c = \"Sayyid\"\n",
    "d = \"Rendika\"\n",
    "\n",
    "a = d == \"Habil\"\n",
    "b = c == \"Arifin\"\n",
    "\n",
    "hasil = a and b\n",
    "hasil"
   ]
  },
  {
   "cell_type": "code",
   "execution_count": null,
   "id": "a845df91",
   "metadata": {},
   "outputs": [],
   "source": [
    "kelas = \"Arifin\""
   ]
  },
  {
   "cell_type": "code",
   "execution_count": 118,
   "id": "95386b58",
   "metadata": {},
   "outputs": [
    {
     "name": "stdout",
     "output_type": "stream",
     "text": [
      "Masukkan nama Anda: Farrel\n",
      "Nama Anda adalah sains data\n"
     ]
    }
   ],
   "source": [
    "# Input\n",
    "nama = input(\"Masukkan nama Anda: \")\n",
    "\n",
    "# Output\n",
    "prodi = \"sains data\"\n",
    "print(\"Nama Anda adalah\", prodi)"
   ]
  },
  {
   "cell_type": "code",
   "execution_count": 125,
   "id": "18aa9fca",
   "metadata": {},
   "outputs": [
    {
     "name": "stdout",
     "output_type": "stream",
     "text": [
      "Nama lu tuh siapa? Mikha\n",
      "ohh jadi namamu Mikha\n"
     ]
    }
   ],
   "source": [
    "# Input\n",
    "# name = \"Farrel\"\n",
    "name = input(\"Nama lu tuh siapa? \")\n",
    "\n",
    "# Output\n",
    "print(\"ohh jadi namamu\", name)"
   ]
  },
  {
   "cell_type": "code",
   "execution_count": null,
   "id": "236a049c",
   "metadata": {},
   "outputs": [],
   "source": [
    "Coba buatkan aku sebuah pekenalan singkat tentang diri kalian sendiri yang berisikan:\n",
    "    \n",
    "nama\n",
    "umur\n",
    "kelas\n",
    "NIM\n",
    "nomor hp\n",
    "Alasan masuk ke Sains Data"
   ]
  },
  {
   "cell_type": "code",
   "execution_count": 149,
   "id": "b5712e0f",
   "metadata": {},
   "outputs": [
    {
     "name": "stdout",
     "output_type": "stream",
     "text": [
      "Nama saya Rendika\n",
      "umur saya17\n"
     ]
    }
   ],
   "source": [
    "nama = \"Rendika\"\n",
    "Umur = \"17\"\n",
    "\n",
    "print('Nama saya',nama)\n",
    "print(f'umur saya{Umur}')"
   ]
  },
  {
   "cell_type": "code",
   "execution_count": 151,
   "id": "50030002",
   "metadata": {},
   "outputs": [
    {
     "name": "stdout",
     "output_type": "stream",
     "text": [
      "Nama Saya 6281998396111\n",
      "Ini cuman nyoba Rendika\n"
     ]
    }
   ],
   "source": [
    "Nomorhp = 6281998396111\n",
    "nama = \"Rendika\"\n",
    "\n",
    "\n",
    "Datadiri = [Nomorhp,nama]\n",
    "print(\"Nama Saya\",Datadiri[0])\n",
    "print(\"Ini cuman nyoba\",Datadiri[1])"
   ]
  },
  {
   "cell_type": "code",
   "execution_count": null,
   "id": "ebcf8411",
   "metadata": {},
   "outputs": [],
   "source": []
  }
 ],
 "metadata": {
  "kernelspec": {
   "display_name": "Python 3 (ipykernel)",
   "language": "python",
   "name": "python3"
  },
  "language_info": {
   "codemirror_mode": {
    "name": "ipython",
    "version": 3
   },
   "file_extension": ".py",
   "mimetype": "text/x-python",
   "name": "python",
   "nbconvert_exporter": "python",
   "pygments_lexer": "ipython3",
   "version": "3.11.4"
  },
  "toc": {
   "base_numbering": 1,
   "nav_menu": {},
   "number_sections": false,
   "sideBar": true,
   "skip_h1_title": false,
   "title_cell": "Table of Contents",
   "title_sidebar": "Contents",
   "toc_cell": false,
   "toc_position": {
    "height": "calc(100% - 180px)",
    "left": "10px",
    "top": "150px",
    "width": "234.6px"
   },
   "toc_section_display": true,
   "toc_window_display": false
  }
 },
 "nbformat": 4,
 "nbformat_minor": 5
}
