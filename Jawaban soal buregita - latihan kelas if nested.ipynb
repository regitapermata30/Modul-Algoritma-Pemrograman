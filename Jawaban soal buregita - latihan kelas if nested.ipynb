{
 "cells": [
  {
   "cell_type": "code",
   "execution_count": 1,
   "metadata": {},
   "outputs": [
    {
     "name": "stdout",
     "output_type": "stream",
     "text": [
      "Pilih operasi:\n",
      "1. Penjumlahan\n",
      "2. Pengurangan\n",
      "3. Perkalian\n",
      "4. Pembagian\n",
      "Hasil pembagian: 1.4\n"
     ]
    }
   ],
   "source": [
    "# Meminta pengguna memasukkan dua angka\n",
    "angka1 = float(input(\"Masukkan angka pertama: \"))\n",
    "angka2 = float(input(\"Masukkan angka kedua: \"))\n",
    "\n",
    "# Meminta pengguna memilih operasi\n",
    "print(\"Pilih operasi:\")\n",
    "print(\"1. Penjumlahan\")\n",
    "print(\"2. Pengurangan\")\n",
    "print(\"3. Perkalian\")\n",
    "print(\"4. Pembagian\")\n",
    "\n",
    "pilihan = input(\"Masukkan nomor operasi (1/2/3/4): \")\n",
    "\n",
    "# Menjalankan operasi yang dipilih\n",
    "if pilihan == '1':\n",
    "    hasil = angka1 + angka2\n",
    "    print(\"Hasil penjumlahan:\", hasil)\n",
    "elif pilihan == '2':\n",
    "    hasil = angka1 - angka2\n",
    "    print(\"Hasil pengurangan:\", hasil)\n",
    "elif pilihan == '3':\n",
    "    hasil = angka1 * angka2\n",
    "    print(\"Hasil perkalian:\", hasil)\n",
    "elif pilihan == '4':\n",
    "    if angka2 != 0:\n",
    "        hasil = angka1 / angka2\n",
    "        print(\"Hasil pembagian:\", hasil)\n",
    "    else:\n",
    "        print(\"Pembagian oleh nol tidak diizinkan.\")\n",
    "else:\n",
    "    print(\"Pilihan operasi tidak valid\")\n"
   ]
  },
  {
   "cell_type": "code",
   "execution_count": 3,
   "metadata": {},
   "outputs": [
    {
     "name": "stdout",
     "output_type": "stream",
     "text": [
      "Siswa mendapat predikat 'Luar Biasa' di matematika dan 'Cukup' di bahasa Inggris.\n"
     ]
    }
   ],
   "source": [
    "# Meminta pengguna memasukkan nilai matematika dan bahasa Inggris\n",
    "nilai_matematika = float(input(\"Masukkan nilai ujian matematika: \"))\n",
    "nilai_inggris = float(input(\"Masukkan nilai ujian bahasa Inggris: \"))\n",
    "\n",
    "# Mengklasifikasikan siswa berdasarkan nilai\n",
    "if nilai_matematika >= 90:\n",
    "    if nilai_inggris >= 90:\n",
    "        print(\"Siswa mendapat predikat 'Luar Biasa' di matematika dan bahasa Inggris.\")\n",
    "    else:\n",
    "        print(\"Siswa mendapat predikat 'Luar Biasa' di matematika dan 'Cukup' di bahasa Inggris.\")\n",
    "elif nilai_matematika >= 70:\n",
    "    if nilai_inggris >= 70:\n",
    "        print(\"Siswa mendapat predikat 'Baik' di matematika dan bahasa Inggris.\")\n",
    "    else:\n",
    "        print(\"Siswa mendapat predikat 'Baik' di matematika dan 'Cukup' di bahasa Inggris.\")\n",
    "else:\n",
    "    if nilai_inggris >= 70:\n",
    "        print(\"Siswa mendapat predikat 'Cukup' di matematika dan 'Baik' di bahasa Inggris.\")\n",
    "    else:\n",
    "        print(\"Siswa mendapat predikat 'Cukup' di matematika dan bahasa Inggris.\")\n",
    "\n"
   ]
  },
  {
   "cell_type": "markdown",
   "metadata": {},
   "source": [
    "Cerita: \"Pengusaha Kecil yang Sukses\"\n",
    "\n",
    "John adalah seorang pengusaha kecil yang menjalankan bisnis katering makanan. Ia sering mendapat pesanan untuk acara-acara pesta. Setelah menerima pesanan, John harus memutuskan apakah usahanya akan menghasilkan keuntungan atau tidak, tergantung pada beberapa faktor:\n",
    "\n",
    "Jika biaya bahan baku makanan lebih rendah dari harga penjualan makanan, maka John akan mendapatkan keuntungan.\n",
    "Jika pesanan mencakup lebih dari 50 porsi makanan, maka John akan memberikan diskon 10% kepada pelanggan. Namun, itu hanya jika pesanan lebih dari 50 porsi."
   ]
  },
  {
   "cell_type": "code",
   "execution_count": 7,
   "metadata": {},
   "outputs": [
    {
     "name": "stdout",
     "output_type": "stream",
     "text": [
      "Profit yang didapatkan adalah  132000.0\n"
     ]
    }
   ],
   "source": [
    "biaya_bahan_baku = 5000 # Biaya bahan baku makanan\n",
    "harga_penjualan = 8000  # Harga penjualan makanan\n",
    "jumlah_pesanan = 60  # Jumlah porsi yang dipesan\n",
    "\n",
    "if biaya_bahan_baku < harga_penjualan:\n",
    "    if jumlah_pesanan > 50:\n",
    "        harga_penjualan = harga_penjualan * 0.9  # Berikan diskon 10%\n",
    "        profit = (harga_penjualan - biaya_bahan_baku) * jumlah_pesanan\n",
    "        print('Profit yang didapatkan adalah ',profit)\n",
    "    else:\n",
    "        profit = (harga_penjualan - biaya_bahan_baku) * jumlah_pesanan\n",
    "        print('profit yang didapatkan adalah ', profit)\n",
    "else:\n",
    "    profit = 0  # Tidak ada keuntungan karena biaya lebih tinggi dari harga jual\n",
    "    print('profit yang didapatkan adalah ',profit)"
   ]
  }
 ],
 "metadata": {
  "kernelspec": {
   "display_name": "Python 3 (ipykernel)",
   "language": "python",
   "name": "python3"
  },
  "language_info": {
   "codemirror_mode": {
    "name": "ipython",
    "version": 3
   },
   "file_extension": ".py",
   "mimetype": "text/x-python",
   "name": "python",
   "nbconvert_exporter": "python",
   "pygments_lexer": "ipython3",
   "version": "3.11.4"
  },
  "toc": {
   "base_numbering": 1,
   "nav_menu": {},
   "number_sections": true,
   "sideBar": true,
   "skip_h1_title": false,
   "title_cell": "Table of Contents",
   "title_sidebar": "Contents",
   "toc_cell": false,
   "toc_position": {},
   "toc_section_display": true,
   "toc_window_display": false
  }
 },
 "nbformat": 4,
 "nbformat_minor": 2
}
