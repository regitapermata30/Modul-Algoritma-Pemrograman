{
 "cells": [
  {
   "cell_type": "markdown",
   "id": "7d77f69a",
   "metadata": {},
   "source": [
    "1. Buatlah program sederhana yang meminta pengguna memasukkan usianya dan kemudian mencetak pesan \"Anda sudah dewasa\" jika usianya 18 tahun atau lebih, dan mencetak pesan \"Anda belum dewasa\" jika usianya di bawah 18 tahun.\n",
    "2. Buatlah program yang meminta input dari pengguna yaitu sebuah bilangan, apakah bilangan bulat yang diinputkan itu adalah bilangan berkelipatan 15 atau bukan. jika ya, maka keluarkan output \"Bilangan anda adalah bilangan kelipatan 15\", jika bukan, maka \"Bilangan anda bukan kelipatan 15\"\n",
    "3. Buatlah program yang meminta pengguna memasukkan sebuah bilangan bulat, lalu menentukan apakah bilangan tersebut positif, negatif, atau nol, dan mencetak pesan sesuai.\n",
    "4. Buatlah program Python yang menghitung diskon berdasarkan total belanja. Jika total belanja lebih dari 100.000, berikan diskon sebesar 10%.\n",
    "5. Buatlah program yang meminta pengguna memasukkan sebuah tahun, dan mencetak pesan \"Tahun kabisat\" jika tahun tersebut adalah tahun kabisat atau mencetak pesan \"Bukan tahun kabisat\" jika bukan tahun kabisat.\n",
    "6. Buat program Python untuk menentukan jenis segitiga berdasarkan panjang sisi-sisinya. Jika ketiga sisi sama panjang, segitiga adalah segitiga sama sisi. Jika dua sisi sama panjang, segitiga adalah segitiga sama kaki. Jika tidak ada sisi yang sama panjang, segitiga adalah segitiga sembarang.\n",
    "7. Buat program Python untuk menentukan kategori berat badan berdasarkan indeks massa tubuh (BMI) pengguna. Jika BMI kurang dari 18.5, kategori adalah \"Kurus\". Jika BMI antara 18.5 dan 24.9 (inklusif), kategori adalah \"Normal\". Jika BMI antara 25 dan 29.9 (inklusif), kategori adalah \"Gemuk\". Jika BMI 30 atau lebih, kategori adalah \"Obesitas\"."
   ]
  },
  {
   "cell_type": "code",
   "execution_count": 1,
   "id": "faf9becc",
   "metadata": {},
   "outputs": [
    {
     "name": "stdout",
     "output_type": "stream",
     "text": [
      "Masukkan usia Anda: 10\n",
      "Anda belum dewasa\n"
     ]
    }
   ],
   "source": [
    "usia = int(input(\"Masukkan usia Anda: \"))\n",
    "\n",
    "if usia >= 18:\n",
    "    print(\"Anda sudah dewasa\")\n",
    "else:\n",
    "    print(\"Anda belum dewasa\")"
   ]
  },
  {
   "cell_type": "code",
   "execution_count": 3,
   "id": "5e167e76",
   "metadata": {},
   "outputs": [
    {
     "name": "stdout",
     "output_type": "stream",
     "text": [
      "Masukkan sebuah bilangan bulat: 50\n",
      "Bilangan Anda bukan kelipatan 15\n"
     ]
    }
   ],
   "source": [
    "bilangan = int(input(\"Masukkan sebuah bilangan bulat: \"))\n",
    "\n",
    "if bilangan % 15 == 0:\n",
    "    print(\"Bilangan Anda adalah bilangan kelipatan 15\")\n",
    "else:\n",
    "    print(\"Bilangan Anda bukan kelipatan 15\")"
   ]
  },
  {
   "cell_type": "code",
   "execution_count": 4,
   "id": "cc6ce5f6",
   "metadata": {},
   "outputs": [
    {
     "name": "stdout",
     "output_type": "stream",
     "text": [
      "Masukkan sebuah bilangan bulat: 10\n",
      "Bilangan Anda adalah bilangan positif\n"
     ]
    }
   ],
   "source": [
    "bilangan = int(input(\"Masukkan sebuah bilangan bulat: \"))\n",
    "\n",
    "if bilangan > 0:\n",
    "    print(\"Bilangan Anda adalah bilangan positif\")\n",
    "elif bilangan < 0:\n",
    "    print(\"Bilangan Anda adalah bilangan negatif\")\n",
    "else:\n",
    "    print(\"Bilangan Anda adalah nol\")"
   ]
  },
  {
   "cell_type": "code",
   "execution_count": 5,
   "id": "4251e9a2",
   "metadata": {},
   "outputs": [
    {
     "name": "stdout",
     "output_type": "stream",
     "text": [
      "Masukkan total belanja Anda: 10000\n",
      "Total belanja Anda tidak mendapatkan diskon\n"
     ]
    }
   ],
   "source": [
    "total_belanja = float(input(\"Masukkan total belanja Anda: \"))\n",
    "\n",
    "if total_belanja > 100000:\n",
    "    diskon = 0.1 * total_belanja\n",
    "    total_belanja -= diskon\n",
    "    print(f\"Total belanja setelah diskon: {total_belanja:.2f}\")\n",
    "else:\n",
    "    print(\"Total belanja Anda tidak mendapatkan diskon\")"
   ]
  },
  {
   "cell_type": "code",
   "execution_count": 8,
   "id": "e0439e35",
   "metadata": {},
   "outputs": [
    {
     "name": "stdout",
     "output_type": "stream",
     "text": [
      "Masukkan sebuah tahun: 2000\n",
      "Tahun kabisat\n"
     ]
    }
   ],
   "source": [
    "tahun = int(input(\"Masukkan sebuah tahun: \"))\n",
    "\n",
    "if (tahun % 4 == 0 and tahun % 100 != 0) or (tahun % 400 == 0):\n",
    "    print(\"Tahun kabisat\")\n",
    "else:\n",
    "    print(\"Bukan tahun kabisat\")"
   ]
  },
  {
   "cell_type": "code",
   "execution_count": 12,
   "id": "8a22df94",
   "metadata": {},
   "outputs": [
    {
     "name": "stdout",
     "output_type": "stream",
     "text": [
      "Masukkan panjang sisi pertama: 10\n",
      "Masukkan panjang sisi kedua: 10\n",
      "Masukkan panjang sisi ketiga: 10\n",
      "Jenis segitiga: segitiga sama sisi\n"
     ]
    }
   ],
   "source": [
    "sisi1 = float(input(\"Masukkan panjang sisi pertama: \"))\n",
    "sisi2 = float(input(\"Masukkan panjang sisi kedua: \"))\n",
    "sisi3 = float(input(\"Masukkan panjang sisi ketiga: \"))\n",
    "\n",
    "if sisi1 == sisi2 == sisi3:\n",
    "    jenis_segitiga = \"segitiga sama sisi\"\n",
    "elif sisi1 == sisi2 or sisi1 == sisi3 or sisi2 == sisi3:\n",
    "    jenis_segitiga = \"segitiga sama kaki\"\n",
    "else:\n",
    "    jenis_segitiga = \"segitiga sembarang\"\n",
    "\n",
    "print(f\"Jenis segitiga: {jenis_segitiga}\")\n"
   ]
  },
  {
   "cell_type": "code",
   "execution_count": 14,
   "id": "c048af0e",
   "metadata": {},
   "outputs": [
    {
     "name": "stdout",
     "output_type": "stream",
     "text": [
      "Masukkan tinggi (dalam meter): 1.5\n",
      "Masukkan berat (dalam kilogram): 75\n",
      "Kategori berat badan Anda: Obesitas\n"
     ]
    }
   ],
   "source": [
    "tinggi = float(input(\"Masukkan tinggi (dalam meter): \"))\n",
    "berat = float(input(\"Masukkan berat (dalam kilogram): \"))\n",
    "\n",
    "bmi = berat / (tinggi ** 2)\n",
    "\n",
    "if bmi < 18.5:\n",
    "    kategori = \"Kurus\"\n",
    "elif bmi >= 18.5 and bmi <= 24.9:\n",
    "    kategori = \"Normal\"\n",
    "elif bmi >= 25 and bmi <= 29.9:\n",
    "    kategori = \"Gemuk\"\n",
    "else:\n",
    "    kategori = \"Obesitas\"\n",
    "\n",
    "print(f\"Kategori berat badan Anda: {kategori}\")\n"
   ]
  },
  {
   "cell_type": "code",
   "execution_count": null,
   "id": "fcf1bb3c",
   "metadata": {},
   "outputs": [],
   "source": []
  }
 ],
 "metadata": {
  "kernelspec": {
   "display_name": "Python 3 (ipykernel)",
   "language": "python",
   "name": "python3"
  },
  "language_info": {
   "codemirror_mode": {
    "name": "ipython",
    "version": 3
   },
   "file_extension": ".py",
   "mimetype": "text/x-python",
   "name": "python",
   "nbconvert_exporter": "python",
   "pygments_lexer": "ipython3",
   "version": "3.11.4"
  },
  "toc": {
   "base_numbering": 1,
   "nav_menu": {},
   "number_sections": true,
   "sideBar": true,
   "skip_h1_title": false,
   "title_cell": "Table of Contents",
   "title_sidebar": "Contents",
   "toc_cell": false,
   "toc_position": {},
   "toc_section_display": true,
   "toc_window_display": false
  }
 },
 "nbformat": 4,
 "nbformat_minor": 5
}
