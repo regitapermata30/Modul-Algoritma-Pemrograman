{
 "cells": [
  {
   "cell_type": "markdown",
   "id": "481cb524",
   "metadata": {},
   "source": [
    "# Latihan soal \n",
    "cara yang baik untuk mempraktikkan apa yang telah Anda pelajari.\n",
    "Berikut adalah beberapa contoh soal yang mudah:"
   ]
  },
  {
   "cell_type": "markdown",
   "id": "88cb1e96",
   "metadata": {},
   "source": [
    "1. Buatlah sebuah program Python untuk menghitung luas segitiga dengan rumus luas = 0.5 * alas * tinggi.\n",
    "2. Tulis program Python yang meminta pengguna untuk memasukkan dua angka dan menampilkan hasil penjumlahan keduanya.\n",
    "3. Buatlah program Python yang mengubah suhu dalam derajat Celsius menjadi derajat Fahrenheit.\n",
    "4. Tulis program Python untuk menghitung rata-rata dari tiga angka yang dimasukkan oleh pengguna.\n",
    "5. Buat program Python sederhana yang menghitung luas dan keliling persegi."
   ]
  },
  {
   "cell_type": "markdown",
   "id": "34acbe67",
   "metadata": {},
   "source": [
    "# Jawaban"
   ]
  },
  {
   "cell_type": "markdown",
   "id": "67425cfe",
   "metadata": {},
   "source": [
    "## Nomor 1"
   ]
  },
  {
   "cell_type": "code",
   "execution_count": null,
   "id": "ba404db3",
   "metadata": {},
   "outputs": [],
   "source": [
    "# Minta pengguna memasukkan nilai alas dan tinggi\n",
    "alas = float(input(\"Masukkan panjang alas segitiga: \"))\n",
    "tinggi = float(input(\"Masukkan tinggi segitiga: \"))\n",
    "\n",
    "# Hitung luas segitiga\n",
    "luas = 0.5 * alas * tinggi\n",
    "\n",
    "# Tampilkan hasilnya\n",
    "print(f\"Luas segitiga adalah {luas}\")\n"
   ]
  },
  {
   "cell_type": "markdown",
   "id": "9205c6fb",
   "metadata": {},
   "source": [
    "## Nomor 2"
   ]
  },
  {
   "cell_type": "code",
   "execution_count": 1,
   "id": "0cc32bb8",
   "metadata": {},
   "outputs": [
    {
     "name": "stdout",
     "output_type": "stream",
     "text": [
      "Masukkan angka pertama: 1010\n",
      "Masukkan angka kedua: 1010\n",
      "Hasil penjumlahan 1010.0 + 1010.0 adalah 2020.0\n"
     ]
    }
   ],
   "source": [
    "# Minta pengguna memasukkan dua angka\n",
    "angka1 = float(input(\"Masukkan angka pertama: \"))\n",
    "angka2 = float(input(\"Masukkan angka kedua: \"))\n",
    "\n",
    "# Hitung hasil penjumlahan\n",
    "hasil = angka1 + angka2\n",
    "\n",
    "# Tampilkan hasilnya\n",
    "print(f\"Hasil penjumlahan {angka1} + {angka2} adalah {hasil}\")\n"
   ]
  },
  {
   "cell_type": "markdown",
   "id": "4cf50b52",
   "metadata": {},
   "source": [
    "## Nomor 3"
   ]
  },
  {
   "cell_type": "code",
   "execution_count": 2,
   "id": "339205f8",
   "metadata": {},
   "outputs": [
    {
     "name": "stdout",
     "output_type": "stream",
     "text": [
      "Masukkan suhu dalam derajat Celsius: 100\n",
      "Suhu dalam derajat Fahrenheit adalah 212.0°F\n"
     ]
    }
   ],
   "source": [
    "# Minta pengguna memasukkan suhu dalam derajat Celsius\n",
    "suhu_celsius = float(input(\"Masukkan suhu dalam derajat Celsius: \"))\n",
    "\n",
    "# Konversi ke Fahrenheit\n",
    "suhu_fahrenheit = (suhu_celsius * 9/5) + 32\n",
    "\n",
    "# Tampilkan hasilnya\n",
    "print(f\"Suhu dalam derajat Fahrenheit adalah {suhu_fahrenheit}°F\")\n"
   ]
  },
  {
   "cell_type": "markdown",
   "id": "a088b14c",
   "metadata": {},
   "source": [
    "## Nomor 4"
   ]
  },
  {
   "cell_type": "code",
   "execution_count": 3,
   "id": "3814fb2b",
   "metadata": {},
   "outputs": [
    {
     "name": "stdout",
     "output_type": "stream",
     "text": [
      "Masukkan angka pertama: 3\n",
      "Masukkan angka kedua: 4\n",
      "Masukkan angka ketiga: 5\n",
      "Rata-rata dari 3.0, 4.0, dan 5.0 adalah 4.0\n"
     ]
    }
   ],
   "source": [
    "# Minta pengguna memasukkan tiga angka\n",
    "angka1 = float(input(\"Masukkan angka pertama: \"))\n",
    "angka2 = float(input(\"Masukkan angka kedua: \"))\n",
    "angka3 = float(input(\"Masukkan angka ketiga: \"))\n",
    "\n",
    "# Hitung rata-ratanya\n",
    "rata_rata = (angka1 + angka2 + angka3) / 3\n",
    "\n",
    "# Tampilkan hasilnya\n",
    "print(f\"Rata-rata dari {angka1}, {angka2}, dan {angka3} adalah {rata_rata}\")"
   ]
  },
  {
   "cell_type": "markdown",
   "id": "a5ad3fcf",
   "metadata": {},
   "source": [
    "### Nomor 5"
   ]
  },
  {
   "cell_type": "code",
   "execution_count": 4,
   "id": "d3376d60",
   "metadata": {},
   "outputs": [
    {
     "name": "stdout",
     "output_type": "stream",
     "text": [
      "Masukkan panjang sisi persegi: 50\n",
      "Luas persegi adalah 2500.0\n",
      "Keliling persegi adalah 200.0\n"
     ]
    }
   ],
   "source": [
    "# Minta pengguna memasukkan panjang sisi persegi\n",
    "sisi = float(input(\"Masukkan panjang sisi persegi: \"))\n",
    "\n",
    "# Hitung luas persegi\n",
    "luas = sisi * sisi\n",
    "\n",
    "# Hitung keliling persegi\n",
    "keliling = 4 * sisi\n",
    "\n",
    "# Tampilkan hasilnya\n",
    "print(f\"Luas persegi adalah {luas}\")\n",
    "print(f\"Keliling persegi adalah {keliling}\")"
   ]
  },
  {
   "cell_type": "code",
   "execution_count": null,
   "id": "c4e76edb",
   "metadata": {},
   "outputs": [],
   "source": []
  }
 ],
 "metadata": {
  "kernelspec": {
   "display_name": "Python 3 (ipykernel)",
   "language": "python",
   "name": "python3"
  },
  "language_info": {
   "codemirror_mode": {
    "name": "ipython",
    "version": 3
   },
   "file_extension": ".py",
   "mimetype": "text/x-python",
   "name": "python",
   "nbconvert_exporter": "python",
   "pygments_lexer": "ipython3",
   "version": "3.11.4"
  },
  "toc": {
   "base_numbering": 1,
   "nav_menu": {},
   "number_sections": true,
   "sideBar": true,
   "skip_h1_title": false,
   "title_cell": "Table of Contents",
   "title_sidebar": "Contents",
   "toc_cell": false,
   "toc_position": {},
   "toc_section_display": true,
   "toc_window_display": false
  }
 },
 "nbformat": 4,
 "nbformat_minor": 5
}
