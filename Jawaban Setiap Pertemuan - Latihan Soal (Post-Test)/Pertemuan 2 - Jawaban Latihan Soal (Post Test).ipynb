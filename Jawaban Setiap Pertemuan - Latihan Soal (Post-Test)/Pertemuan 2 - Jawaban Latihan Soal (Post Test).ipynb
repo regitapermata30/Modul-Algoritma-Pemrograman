{
 "cells": [
  {
   "cell_type": "markdown",
   "id": "6ec038af",
   "metadata": {},
   "source": [
    "# Penjumlahan Sederhana"
   ]
  },
  {
   "cell_type": "markdown",
   "id": "017f3ca4",
   "metadata": {},
   "source": [
    "Buatlah sebuah penjumlahan sederhana yang user dapat menginputkan sebuah angka yang bebas."
   ]
  },
  {
   "cell_type": "code",
   "execution_count": 3,
   "id": "73c16c38",
   "metadata": {},
   "outputs": [
    {
     "name": "stdout",
     "output_type": "stream",
     "text": [
      "Masukkan angka pertama: 11\n",
      "Masukkan angka kedua: 4\n",
      "Hasil penjumlahan dari 11.0 + 4.0 adalah 15.0\n"
     ]
    }
   ],
   "source": [
    "angka1, angka2 = float(input(\"Masukkan angka pertama: \")), float(input(\"Masukkan angka kedua: \"))\n",
    "\n",
    "# Hitung hasil penjumlahan\n",
    "hasil_jumlah = angka1 + angka2\n",
    "\n",
    "# Tampilkan hasilnya\n",
    "print(f\"Hasil penjumlahan dari {angka1} + {angka2} adalah {hasil_jumlah}\")"
   ]
  },
  {
   "cell_type": "markdown",
   "id": "5b0788e1",
   "metadata": {},
   "source": [
    "# Pangkat (Eksponensial)"
   ]
  },
  {
   "cell_type": "markdown",
   "id": "9da5eb44",
   "metadata": {},
   "source": [
    "Buatlah hasil perhitungan pangkat dimana akan menghasilkan sebuah nilai..."
   ]
  },
  {
   "cell_type": "code",
   "execution_count": 4,
   "id": "588a2b02",
   "metadata": {},
   "outputs": [
    {
     "name": "stdout",
     "output_type": "stream",
     "text": [
      "Masukkan angka dasar: 11\n",
      "Masukkan pangkat: 2\n",
      "Hasil perpangkatan dari 11.0 dipangkat 2 adalah 121.0\n"
     ]
    }
   ],
   "source": [
    "angka_dasar, pangkat = float(input(\"Masukkan angka dasar: \")), int(input(\"Masukkan pangkat: \"))\n",
    "\n",
    "# Hitung hasil pangkat\n",
    "hasil_pangkat = angka_dasar ** pangkat\n",
    "\n",
    "# Tampilkan hasilnya\n",
    "print(f\"Hasil perpangkatan dari {angka_dasar} dipangkat {pangkat} adalah {hasil_pangkat}\")"
   ]
  },
  {
   "cell_type": "markdown",
   "id": "adda23a8",
   "metadata": {},
   "source": [
    "# Akar Kuadrat"
   ]
  },
  {
   "cell_type": "markdown",
   "id": "e4746e9a",
   "metadata": {},
   "source": [
    "coba buatkan aku perhitungan akar kuadrat dari sebuah bilangan. input bilangan bebas dari user. dan hasilnya harus di bulatkan kebawah"
   ]
  },
  {
   "cell_type": "code",
   "execution_count": 6,
   "id": "e778559f",
   "metadata": {},
   "outputs": [
    {
     "name": "stdout",
     "output_type": "stream",
     "text": [
      "Masukkan bilangan: 50\n",
      "Akar kuadrat dari 50.0 (dibulatkan ke bawah) adalah 7.0710678118654755 dan dibulatkan kebawah menjadi 7\n"
     ]
    }
   ],
   "source": [
    "import math\n",
    "bilangan = float(input(\"Masukkan bilangan: \"))\n",
    "\n",
    "# Hitung akar kuadrat dan bulatkan ke bawah\n",
    "akar_kuadrat = math.sqrt(bilangan)\n",
    "bulat_kebawah = math.floor(akar_kuadrat)\n",
    "\n",
    "# Tampilkan hasilnya\n",
    "print(f\"Akar kuadrat dari {bilangan} (dibulatkan ke bawah) adalah {akar_kuadrat} dan dibulatkan kebawah menjadi {bulat_kebawah}\")"
   ]
  },
  {
   "cell_type": "markdown",
   "id": "ee5a0575",
   "metadata": {},
   "source": [
    "# Konversi satuan panjang"
   ]
  },
  {
   "cell_type": "markdown",
   "id": "a18cf249",
   "metadata": {},
   "source": [
    "buatkan aku konversi nilai satuan panjang dari M ke KM, dan dari M ke CM."
   ]
  },
  {
   "cell_type": "code",
   "execution_count": 8,
   "id": "f2fd0734",
   "metadata": {},
   "outputs": [
    {
     "name": "stdout",
     "output_type": "stream",
     "text": [
      "Masukkan nilai dalam meter (M): 1000\n",
      "1000.0 M setara dengan 1.0 KM\n",
      "1000.0 M setara dengan 100000.0 CM\n"
     ]
    }
   ],
   "source": [
    "nilai_meter = float(input(\"Masukkan nilai dalam meter (M): \"))\n",
    "\n",
    "# Konversi meter(M) ke kilometer (KM) dan sentimeter (CM)\n",
    "nilai_kilometer, nilai_sentimeter = nilai_meter / 1000, nilai_meter * 100\n",
    "\n",
    "# Tampilkan hasil konversi\n",
    "print(f\"{nilai_meter} M setara dengan {nilai_kilometer} KM\")\n",
    "print(f\"{nilai_meter} M setara dengan {nilai_sentimeter} CM\")"
   ]
  }
 ],
 "metadata": {
  "kernelspec": {
   "display_name": "Python 3 (ipykernel)",
   "language": "python",
   "name": "python3"
  },
  "language_info": {
   "codemirror_mode": {
    "name": "ipython",
    "version": 3
   },
   "file_extension": ".py",
   "mimetype": "text/x-python",
   "name": "python",
   "nbconvert_exporter": "python",
   "pygments_lexer": "ipython3",
   "version": "3.11.4"
  },
  "toc": {
   "base_numbering": 1,
   "nav_menu": {},
   "number_sections": false,
   "sideBar": true,
   "skip_h1_title": false,
   "title_cell": "Table of Contents",
   "title_sidebar": "Contents",
   "toc_cell": false,
   "toc_position": {
    "height": "calc(100% - 180px)",
    "left": "10px",
    "top": "150px",
    "width": "221.818px"
   },
   "toc_section_display": true,
   "toc_window_display": true
  }
 },
 "nbformat": 4,
 "nbformat_minor": 5
}
