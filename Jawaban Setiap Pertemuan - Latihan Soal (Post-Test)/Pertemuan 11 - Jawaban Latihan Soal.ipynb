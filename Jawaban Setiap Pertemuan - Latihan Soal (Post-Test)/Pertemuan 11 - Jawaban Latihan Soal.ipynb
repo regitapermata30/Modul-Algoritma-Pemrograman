{
 "cells": [
  {
   "cell_type": "code",
   "execution_count": 1,
   "id": "62c798f9",
   "metadata": {},
   "outputs": [
    {
     "name": "stdout",
     "output_type": "stream",
     "text": [
      "Hasil Penjumlahan: [7, 9, 11, 13, 15]\n",
      "Hasil Pengurangan: [-5, -5, -5, -5, -5]\n",
      "Hasil Perkalian: [6, 14, 24, 36, 50]\n",
      "Hasil Pembagian: [0.16666666666666666, 0.2857142857142857, 0.375, 0.4444444444444444, 0.5]\n"
     ]
    }
   ],
   "source": [
    "# Memasukkan dua list numerik dengan panjang yang sama\n",
    "list_1 = [1, 2, 3, 4, 5]\n",
    "list_2 = [6, 7, 8, 9, 10]\n",
    "\n",
    "# Operasi aritmatika pada setiap elemen dari kedua list\n",
    "hasil_penjumlahan = [a + b for a, b in zip(list_1, list_2)]\n",
    "hasil_pengurangan = [a - b for a, b in zip(list_1, list_2)]\n",
    "hasil_perkalian = [a * b for a, b in zip(list_1, list_2)]\n",
    "hasil_pembagian = [a / b for a, b in zip(list_1, list_2)]\n",
    "\n",
    "# Menampilkan hasil operasi aritmatika\n",
    "print(\"Hasil Penjumlahan:\", hasil_penjumlahan)\n",
    "print(\"Hasil Pengurangan:\", hasil_pengurangan)\n",
    "print(\"Hasil Perkalian:\", hasil_perkalian)\n",
    "print(\"Hasil Pembagian:\", hasil_pembagian)\n"
   ]
  },
  {
   "cell_type": "code",
   "execution_count": 8,
   "id": "b606d505",
   "metadata": {},
   "outputs": [
    {
     "name": "stdout",
     "output_type": "stream",
     "text": [
      "Masukkan nama: Rendika\n",
      "Masukkan usia: 20\n",
      "Masukkan nama: Sayyid'\n",
      "Masukkan usia: 50\n",
      "\n",
      "Data yang dimasukkan:\n",
      "Nama: Rendika, Usia: 20 tahun\n",
      "Nama: Sayyid', Usia: 50 tahun\n"
     ]
    }
   ],
   "source": [
    "# Meminta pengguna memasukkan data dan menyimpannya dalam dictionary\n",
    "data = {}\n",
    "for i in range(2):\n",
    "    nama = input(\"Masukkan nama: \")\n",
    "    usia = int(input(\"Masukkan usia: \"))\n",
    "    data[nama] = usia\n",
    "\n",
    "# Menampilkan pasangan nama dan usia menggunakan perulangan pada dictionary\n",
    "print(\"\")\n",
    "\n",
    "print(\"Data yang dimasukkan:\")\n",
    "\n",
    "for nama, usia in data.items():\n",
    "    print(f\"Nama: {nama}, Usia: {usia} tahun\")\n"
   ]
  },
  {
   "cell_type": "code",
   "execution_count": 3,
   "id": "68275f83",
   "metadata": {},
   "outputs": [
    {
     "name": "stdout",
     "output_type": "stream",
     "text": [
      "Nilai Maksimum dari Setiap Baris:\n",
      "[91 97 72 67 72]\n",
      "\n",
      "Nilai Minimum dari Setiap Kolom:\n",
      "[60 10 13 28 19]\n"
     ]
    }
   ],
   "source": [
    "import numpy as np\n",
    "\n",
    "# Membuat array dua dimensi berisi angka acak\n",
    "array_2d = np.random.randint(1, 100, size=(5, 5))\n",
    "\n",
    "# Mencari nilai maksimum dari setiap baris dan nilai minimum dari setiap kolom\n",
    "max_per_baris = np.max(array_2d, axis=1)\n",
    "min_per_kolom = np.min(array_2d, axis=0)\n",
    "\n",
    "# Menampilkan nilai maksimum dari setiap baris dan nilai minimum dari setiap kolom\n",
    "print(\"Nilai Maksimum dari Setiap Baris:\")\n",
    "print(max_per_baris)\n",
    "print(\"\\nNilai Minimum dari Setiap Kolom:\")\n",
    "print(min_per_kolom)"
   ]
  },
  {
   "cell_type": "code",
   "execution_count": 9,
   "id": "3ad88dfc",
   "metadata": {},
   "outputs": [
    {
     "data": {
      "text/plain": [
       "array([[91, 58, 30, 57, 19],\n",
       "       [97, 10, 57, 80, 96],\n",
       "       [72, 39, 52, 28, 49],\n",
       "       [60, 34, 67, 54, 20],\n",
       "       [66, 72, 13, 33, 48]])"
      ]
     },
     "execution_count": 9,
     "metadata": {},
     "output_type": "execute_result"
    }
   ],
   "source": [
    "array_2d"
   ]
  },
  {
   "cell_type": "code",
   "execution_count": null,
   "id": "00ce7cc7",
   "metadata": {},
   "outputs": [],
   "source": []
  }
 ],
 "metadata": {
  "kernelspec": {
   "display_name": "Python 3 (ipykernel)",
   "language": "python",
   "name": "python3"
  },
  "language_info": {
   "codemirror_mode": {
    "name": "ipython",
    "version": 3
   },
   "file_extension": ".py",
   "mimetype": "text/x-python",
   "name": "python",
   "nbconvert_exporter": "python",
   "pygments_lexer": "ipython3",
   "version": "3.11.4"
  },
  "toc": {
   "base_numbering": 1,
   "nav_menu": {},
   "number_sections": true,
   "sideBar": true,
   "skip_h1_title": false,
   "title_cell": "Table of Contents",
   "title_sidebar": "Contents",
   "toc_cell": false,
   "toc_position": {},
   "toc_section_display": true,
   "toc_window_display": false
  }
 },
 "nbformat": 4,
 "nbformat_minor": 5
}
