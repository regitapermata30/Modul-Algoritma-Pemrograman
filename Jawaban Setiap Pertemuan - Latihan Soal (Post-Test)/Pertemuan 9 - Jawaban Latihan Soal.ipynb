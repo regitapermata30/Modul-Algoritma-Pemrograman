{
 "cells": [
  {
   "cell_type": "markdown",
   "id": "fa578bd5",
   "metadata": {},
   "source": [
    "# Nomor 1"
   ]
  },
  {
   "cell_type": "code",
   "execution_count": 1,
   "id": "df397b62",
   "metadata": {},
   "outputs": [
    {
     "name": "stdout",
     "output_type": "stream",
     "text": [
      "Hasil penjumlahan: 12\n"
     ]
    }
   ],
   "source": [
    "def tambah(a, b):\n",
    "    return a + b\n",
    "\n",
    "# Pemanggilan fungsi\n",
    "hasil_penjumlahan = tambah(5, 7)\n",
    "print(\"Hasil penjumlahan:\", hasil_penjumlahan)"
   ]
  },
  {
   "cell_type": "markdown",
   "id": "b69d178d",
   "metadata": {},
   "source": [
    "# Nomor 2"
   ]
  },
  {
   "cell_type": "code",
   "execution_count": 2,
   "id": "fd4b9c63",
   "metadata": {},
   "outputs": [
    {
     "name": "stdout",
     "output_type": "stream",
     "text": [
      "Halo, Budi!\n",
      "Selamat pagi, Budi!\n"
     ]
    }
   ],
   "source": [
    "def sapa(nama, salam=\"Halo\"):\n",
    "    print(f\"{salam}, {nama}!\")\n",
    "\n",
    "# Uji fungsi\n",
    "sapa(\"Budi\")\n",
    "sapa(\"Budi\", \"Selamat pagi\")"
   ]
  },
  {
   "cell_type": "markdown",
   "id": "52471d59",
   "metadata": {},
   "source": [
    "# Nomor 3"
   ]
  },
  {
   "cell_type": "code",
   "execution_count": 3,
   "id": "4237e500",
   "metadata": {},
   "outputs": [
    {
     "name": "stdout",
     "output_type": "stream",
     "text": [
      "Hasil penjumlahan: 150\n",
      "Rata-rata: 30.0\n"
     ]
    }
   ],
   "source": [
    "def jumlahkan_rata_ratakan(*args):\n",
    "    total = sum(args)\n",
    "    rata_rata = total / len(args)\n",
    "    return total, rata_rata\n",
    "\n",
    "# Uji fungsi\n",
    "hasil_penjumlahan, hasil_rata_rata = jumlahkan_rata_ratakan(10, 20, 30, 40, 50)\n",
    "print(\"Hasil penjumlahan:\", hasil_penjumlahan)\n",
    "print(\"Rata-rata:\", hasil_rata_rata)"
   ]
  },
  {
   "cell_type": "code",
   "execution_count": null,
   "id": "57414b27",
   "metadata": {},
   "outputs": [],
   "source": []
  }
 ],
 "metadata": {
  "kernelspec": {
   "display_name": "Python 3 (ipykernel)",
   "language": "python",
   "name": "python3"
  },
  "language_info": {
   "codemirror_mode": {
    "name": "ipython",
    "version": 3
   },
   "file_extension": ".py",
   "mimetype": "text/x-python",
   "name": "python",
   "nbconvert_exporter": "python",
   "pygments_lexer": "ipython3",
   "version": "3.11.4"
  },
  "toc": {
   "base_numbering": 1,
   "nav_menu": {},
   "number_sections": true,
   "sideBar": true,
   "skip_h1_title": false,
   "title_cell": "Table of Contents",
   "title_sidebar": "Contents",
   "toc_cell": false,
   "toc_position": {},
   "toc_section_display": true,
   "toc_window_display": false
  }
 },
 "nbformat": 4,
 "nbformat_minor": 5
}
