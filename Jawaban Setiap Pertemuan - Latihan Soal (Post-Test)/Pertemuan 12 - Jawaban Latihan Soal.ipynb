{
 "cells": [
  {
   "cell_type": "markdown",
   "id": "ffae64b5",
   "metadata": {},
   "source": [
    "# Penanganan Exception pada Pembagian Dua Bilangan Bulat"
   ]
  },
  {
   "cell_type": "code",
   "execution_count": null,
   "id": "00ce7cc7",
   "metadata": {},
   "outputs": [],
   "source": [
    "try:\n",
    "    bilangan1 = int(input(\"Masukkan bilangan pertama: \"))\n",
    "    bilangan2 = int(input(\"Masukkan bilangan kedua: \"))\n",
    "    hasil = bilangan1 / bilangan2\n",
    "    print(\"Hasil pembagian:\", hasil)\n",
    "except ZeroDivisionError:\n",
    "    print(\"Tidak bisa membagi dengan nol!\")\n",
    "except ValueError:\n",
    "    print(\"Masukkan harus berupa bilangan bulat!\")\n"
   ]
  },
  {
   "cell_type": "markdown",
   "id": "c7bec5d0",
   "metadata": {},
   "source": [
    "# Fungsi Perhitungan Luas Persegi Panjang dengan Penanganan Kesalahan Input"
   ]
  },
  {
   "cell_type": "code",
   "execution_count": null,
   "id": "53e8642c",
   "metadata": {},
   "outputs": [],
   "source": [
    "def hitung_luas_persegi_panjang(panjang, lebar):\n",
    "    try:\n",
    "        panjang = float(panjang)\n",
    "        lebar = float(lebar)\n",
    "        luas = panjang * lebar\n",
    "        return luas\n",
    "    except ValueError:\n",
    "        return \"Masukkan harus berupa angka\"\n",
    "\n",
    "# Contoh pemanggilan fungsi:\n",
    "panjang_input = input(\"Masukkan panjang persegi panjang: \")\n",
    "lebar_input = input(\"Masukkan lebar persegi panjang: \")\n",
    "hasil = hitung_luas_persegi_panjang(panjang_input, lebar_input)\n",
    "print(\"Luas persegi panjang:\", hasil)\n"
   ]
  },
  {
   "cell_type": "markdown",
   "id": "c11cbed0",
   "metadata": {},
   "source": [
    "# Program untuk Menghitung Hasil Pangkat Dua dari Bilangan Bulat Positif yang Dimasukkan Pengguna:"
   ]
  },
  {
   "cell_type": "code",
   "execution_count": null,
   "id": "8c659146",
   "metadata": {},
   "outputs": [],
   "source": [
    "try:\n",
    "    bilangan = int(input(\"Masukkan bilangan bulat positif: \"))\n",
    "    if bilangan <= 0:\n",
    "        raise ValueError(\"Input harus berupa bilangan bulat positif\")\n",
    "    hasil_pangkat = bilangan ** 2\n",
    "    print(\"Hasil pangkat dua:\", hasil_pangkat)\n",
    "\n",
    "except ValueError as e:\n",
    "    print(e)\n",
    "except TypeError:\n",
    "    print(\"Input harus berupa bilangan bulat\")"
   ]
  },
  {
   "cell_type": "markdown",
   "id": "9355caae",
   "metadata": {},
   "source": [
    "# Program untuk Melakukan Operasi Pembagian dari Daftar Bilangan dengan Tanggapan terhadap Beberapa Jenis Exception"
   ]
  },
  {
   "cell_type": "code",
   "execution_count": 4,
   "id": "c9a8e281",
   "metadata": {},
   "outputs": [
    {
     "name": "stdout",
     "output_type": "stream",
     "text": [
      "Masukkan indeks yang ingin dibagi (0, 1, atau 2): 10\n",
      "Masukkan bilangan pembagi: 2\n",
      "Indeks melebihi panjang daftar\n"
     ]
    },
    {
     "ename": "KeyboardInterrupt",
     "evalue": "Interrupted by user",
     "output_type": "error",
     "traceback": [
      "\u001b[1;31m---------------------------------------------------------------------------\u001b[0m",
      "\u001b[1;31mKeyboardInterrupt\u001b[0m                         Traceback (most recent call last)",
      "Cell \u001b[1;32mIn[4], line 4\u001b[0m\n\u001b[0;32m      2\u001b[0m \u001b[38;5;28;01mwhile\u001b[39;00m \u001b[38;5;28;01mTrue\u001b[39;00m:\n\u001b[0;32m      3\u001b[0m     \u001b[38;5;28;01mtry\u001b[39;00m:\n\u001b[1;32m----> 4\u001b[0m         pengguna_input \u001b[38;5;241m=\u001b[39m \u001b[38;5;28mint\u001b[39m(\u001b[38;5;28minput\u001b[39m(\u001b[38;5;124m\"\u001b[39m\u001b[38;5;124mMasukkan indeks yang ingin dibagi (0, 1, atau 2): \u001b[39m\u001b[38;5;124m\"\u001b[39m))\n\u001b[0;32m      5\u001b[0m         pembagi \u001b[38;5;241m=\u001b[39m \u001b[38;5;28mfloat\u001b[39m(\u001b[38;5;28minput\u001b[39m(\u001b[38;5;124m\"\u001b[39m\u001b[38;5;124mMasukkan bilangan pembagi: \u001b[39m\u001b[38;5;124m\"\u001b[39m))\n\u001b[0;32m      7\u001b[0m         hasil \u001b[38;5;241m=\u001b[39m data[pengguna_input] \u001b[38;5;241m/\u001b[39m pembagi\n",
      "File \u001b[1;32m~\\anaconda3\\Lib\\site-packages\\ipykernel\\kernelbase.py:1175\u001b[0m, in \u001b[0;36mKernel.raw_input\u001b[1;34m(self, prompt)\u001b[0m\n\u001b[0;32m   1171\u001b[0m \u001b[38;5;28;01mif\u001b[39;00m \u001b[38;5;129;01mnot\u001b[39;00m \u001b[38;5;28mself\u001b[39m\u001b[38;5;241m.\u001b[39m_allow_stdin:\n\u001b[0;32m   1172\u001b[0m     \u001b[38;5;28;01mraise\u001b[39;00m StdinNotImplementedError(\n\u001b[0;32m   1173\u001b[0m         \u001b[38;5;124m\"\u001b[39m\u001b[38;5;124mraw_input was called, but this frontend does not support input requests.\u001b[39m\u001b[38;5;124m\"\u001b[39m\n\u001b[0;32m   1174\u001b[0m     )\n\u001b[1;32m-> 1175\u001b[0m \u001b[38;5;28;01mreturn\u001b[39;00m \u001b[38;5;28mself\u001b[39m\u001b[38;5;241m.\u001b[39m_input_request(\n\u001b[0;32m   1176\u001b[0m     \u001b[38;5;28mstr\u001b[39m(prompt),\n\u001b[0;32m   1177\u001b[0m     \u001b[38;5;28mself\u001b[39m\u001b[38;5;241m.\u001b[39m_parent_ident[\u001b[38;5;124m\"\u001b[39m\u001b[38;5;124mshell\u001b[39m\u001b[38;5;124m\"\u001b[39m],\n\u001b[0;32m   1178\u001b[0m     \u001b[38;5;28mself\u001b[39m\u001b[38;5;241m.\u001b[39mget_parent(\u001b[38;5;124m\"\u001b[39m\u001b[38;5;124mshell\u001b[39m\u001b[38;5;124m\"\u001b[39m),\n\u001b[0;32m   1179\u001b[0m     password\u001b[38;5;241m=\u001b[39m\u001b[38;5;28;01mFalse\u001b[39;00m,\n\u001b[0;32m   1180\u001b[0m )\n",
      "File \u001b[1;32m~\\anaconda3\\Lib\\site-packages\\ipykernel\\kernelbase.py:1217\u001b[0m, in \u001b[0;36mKernel._input_request\u001b[1;34m(self, prompt, ident, parent, password)\u001b[0m\n\u001b[0;32m   1214\u001b[0m             \u001b[38;5;28;01mbreak\u001b[39;00m\n\u001b[0;32m   1215\u001b[0m \u001b[38;5;28;01mexcept\u001b[39;00m \u001b[38;5;167;01mKeyboardInterrupt\u001b[39;00m:\n\u001b[0;32m   1216\u001b[0m     \u001b[38;5;66;03m# re-raise KeyboardInterrupt, to truncate traceback\u001b[39;00m\n\u001b[1;32m-> 1217\u001b[0m     \u001b[38;5;28;01mraise\u001b[39;00m \u001b[38;5;167;01mKeyboardInterrupt\u001b[39;00m(\u001b[38;5;124m\"\u001b[39m\u001b[38;5;124mInterrupted by user\u001b[39m\u001b[38;5;124m\"\u001b[39m) \u001b[38;5;28;01mfrom\u001b[39;00m \u001b[38;5;28;01mNone\u001b[39;00m\n\u001b[0;32m   1218\u001b[0m \u001b[38;5;28;01mexcept\u001b[39;00m \u001b[38;5;167;01mException\u001b[39;00m:\n\u001b[0;32m   1219\u001b[0m     \u001b[38;5;28mself\u001b[39m\u001b[38;5;241m.\u001b[39mlog\u001b[38;5;241m.\u001b[39mwarning(\u001b[38;5;124m\"\u001b[39m\u001b[38;5;124mInvalid Message:\u001b[39m\u001b[38;5;124m\"\u001b[39m, exc_info\u001b[38;5;241m=\u001b[39m\u001b[38;5;28;01mTrue\u001b[39;00m)\n",
      "\u001b[1;31mKeyboardInterrupt\u001b[0m: Interrupted by user"
     ]
    }
   ],
   "source": [
    "data = [10, 20, 30]\n",
    "while True:\n",
    "    try:\n",
    "        pengguna_input = int(input(\"Masukkan indeks yang ingin dibagi (0, 1, atau 2): \"))\n",
    "        pembagi = float(input(\"Masukkan bilangan pembagi: \"))\n",
    "\n",
    "        hasil = data[pengguna_input] / pembagi\n",
    "        print(\"Hasil pembagian:\", hasil)\n",
    "        break\n",
    "\n",
    "    except IndexError:\n",
    "        print(\"Indeks melebihi panjang daftar\")\n",
    "    except ValueError:\n",
    "        print(\"Masukkan harus berupa bilangan\")\n",
    "    except ZeroDivisionError:\n",
    "        print(\"Tidak bisa melakukan pembagian dengan 0\")\n"
   ]
  },
  {
   "cell_type": "code",
   "execution_count": null,
   "id": "09eff743",
   "metadata": {},
   "outputs": [],
   "source": []
  }
 ],
 "metadata": {
  "kernelspec": {
   "display_name": "Python 3 (ipykernel)",
   "language": "python",
   "name": "python3"
  },
  "language_info": {
   "codemirror_mode": {
    "name": "ipython",
    "version": 3
   },
   "file_extension": ".py",
   "mimetype": "text/x-python",
   "name": "python",
   "nbconvert_exporter": "python",
   "pygments_lexer": "ipython3",
   "version": "3.11.4"
  },
  "toc": {
   "base_numbering": 1,
   "nav_menu": {},
   "number_sections": true,
   "sideBar": true,
   "skip_h1_title": false,
   "title_cell": "Table of Contents",
   "title_sidebar": "Contents",
   "toc_cell": false,
   "toc_position": {},
   "toc_section_display": true,
   "toc_window_display": false
  }
 },
 "nbformat": 4,
 "nbformat_minor": 5
}
